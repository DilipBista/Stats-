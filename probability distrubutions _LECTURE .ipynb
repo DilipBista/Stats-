{
 "cells": [
  {
   "cell_type": "code",
   "execution_count": 27,
   "id": "ed2dd7d5",
   "metadata": {},
   "outputs": [],
   "source": [
    "import matplotlib.pyplot as plt\n",
    "import numpy as np \n",
    "import pandas as pd \n",
    "from scipy import stats \n"
   ]
  },
  {
   "cell_type": "markdown",
   "id": "5c2c016c",
   "metadata": {},
   "source": [
    "# Probability Distrubution: \n",
    "- sum of all probability in your sample = 1 \n",
    "\n",
    "# Types of Probability distrubution \n",
    "   - Discrete \n",
    "   - Continous \n",
    "    \n",
    "    \n",
    "    "
   ]
  },
  {
   "cell_type": "markdown",
   "id": "f709b33f",
   "metadata": {},
   "source": [
    "# Types of Distributions \n",
    "- Uniform \n",
    "-Normal \n",
    "-Binomial \n",
    "-Poisson "
   ]
  },
  {
   "cell_type": "code",
   "execution_count": 4,
   "id": "3dc63eef",
   "metadata": {},
   "outputs": [
    {
     "data": {
      "text/plain": [
       "<scipy.stats._distn_infrastructure.rv_frozen at 0x7f86f0f91760>"
      ]
     },
     "execution_count": 4,
     "metadata": {},
     "output_type": "execute_result"
    }
   ],
   "source": [
    "# create a scipy object for undelying distribution \n",
    "die_distrub= stats.randint(1,7)\n",
    "die_distrub"
   ]
  },
  {
   "cell_type": "markdown",
   "id": "70d2f67d",
   "metadata": {},
   "source": [
    "# PDF / PMF\n",
    "- Probability our random variable takes on a given value.\n",
    "    - pdf : probability density function, for continuous distributions\n",
    "    - pmf : probability mass function, for discrete distributions"
   ]
  },
  {
   "cell_type": "code",
   "execution_count": 6,
   "id": "00f23947",
   "metadata": {},
   "outputs": [
    {
     "data": {
      "text/plain": [
       "0.16666666666666666"
      ]
     },
     "execution_count": 6,
     "metadata": {},
     "output_type": "execute_result"
    }
   ],
   "source": [
    "# probability of rolling 3 \n",
    "die_distrub.pmf(3)"
   ]
  },
  {
   "cell_type": "markdown",
   "id": "0cd5eb4f",
   "metadata": {},
   "source": [
    "# CDF & PPF\n",
    "- Probability our random variable takes on a value less than or equal to\n",
    "a given p oint.\n",
    "    - cdf : cumulative density function, given a value, what's the proba-bility?\n",
    "    - ppf : percent point function, given a probability, what's the value?"
   ]
  },
  {
   "cell_type": "code",
   "execution_count": 8,
   "id": "d7cf7621",
   "metadata": {},
   "outputs": [
    {
     "data": {
      "text/plain": [
       "0.5"
      ]
     },
     "execution_count": 8,
     "metadata": {},
     "output_type": "execute_result"
    }
   ],
   "source": [
    "# prob of rolling 3 or less \n",
    "die_distrub.cdf(3)"
   ]
  },
  {
   "cell_type": "code",
   "execution_count": 9,
   "id": "f3ec8338",
   "metadata": {},
   "outputs": [
    {
     "data": {
      "text/plain": [
       "3.0"
      ]
     },
     "execution_count": 9,
     "metadata": {},
     "output_type": "execute_result"
    }
   ],
   "source": [
    "# prob calculate value of random variable \n",
    "die_distrub.ppf(0.5)"
   ]
  },
  {
   "cell_type": "code",
   "execution_count": null,
   "id": "e50f301a",
   "metadata": {},
   "outputs": [],
   "source": []
  },
  {
   "cell_type": "markdown",
   "id": "f5696ec1",
   "metadata": {},
   "source": [
    "#SF & ISF\n",
    "- Probability our random variable takes on a value greater than a given\n",
    "point\n",
    "    - sf : survival function, given a value, what's the probability?\n",
    "    - isf : inverse survival function, given a probability, what's the value?"
   ]
  },
  {
   "cell_type": "code",
   "execution_count": 10,
   "id": "aa36995e",
   "metadata": {},
   "outputs": [
    {
     "data": {
      "text/plain": [
       "0.33333333333333337"
      ]
     },
     "execution_count": 10,
     "metadata": {},
     "output_type": "execute_result"
    }
   ],
   "source": [
    "# lkelihood we roll a value higher than 4 \n",
    "die_distrub.sf(4)"
   ]
  },
  {
   "cell_type": "code",
   "execution_count": 11,
   "id": "f974dad1",
   "metadata": {},
   "outputs": [
    {
     "data": {
      "text/plain": [
       "4.0"
      ]
     },
     "execution_count": 11,
     "metadata": {},
     "output_type": "execute_result"
    }
   ],
   "source": [
    "# there is a 1/3 chance a dice roll will be higher than what value (inverse of above) \n",
    "die_distrub.isf(1/3)"
   ]
  },
  {
   "cell_type": "markdown",
   "id": "375b84d7",
   "metadata": {},
   "source": [
    "# https://classroom.google.com/u/1/c/Mzg3MTg5NzU1Njk1/m/Mzg3MTg5ODk2NTMw/details"
   ]
  },
  {
   "cell_type": "markdown",
   "id": "ac8c64af",
   "metadata": {},
   "source": [
    "# Normal Distrubution \n",
    "\n",
    "- bell shaped \n",
    "- observation closer to mean \n",
    "- 2 parameters : mean and SD\n",
    "- common in nature eg: height, time to get point A to B , manufracturing "
   ]
  },
  {
   "cell_type": "code",
   "execution_count": 26,
   "id": "3d4e16d4",
   "metadata": {},
   "outputs": [
    {
     "ename": "NameError",
     "evalue": "name 'mean' is not defined",
     "output_type": "error",
     "traceback": [
      "\u001b[0;31m---------------------------------------------------------------------------\u001b[0m",
      "\u001b[0;31mNameError\u001b[0m                                 Traceback (most recent call last)",
      "\u001b[0;32m<ipython-input-26-7aae1ae413de>\u001b[0m in \u001b[0;36m<module>\u001b[0;34m\u001b[0m\n\u001b[0;32m----> 1\u001b[0;31m \u001b[0mstats\u001b[0m\u001b[0;34m.\u001b[0m\u001b[0mnorm\u001b[0m\u001b[0;34m(\u001b[0m\u001b[0mmean\u001b[0m\u001b[0;34m,\u001b[0m \u001b[0mstd_dev\u001b[0m\u001b[0;34m)\u001b[0m\u001b[0;34m\u001b[0m\u001b[0;34m\u001b[0m\u001b[0m\n\u001b[0m",
      "\u001b[0;31mNameError\u001b[0m: name 'mean' is not defined"
     ]
    }
   ],
   "source": [
    "stats.norm(mean, std_dev)"
   ]
  },
  {
   "cell_type": "code",
   "execution_count": 40,
   "id": "0fb9b0ab",
   "metadata": {},
   "outputs": [],
   "source": [
    "# what is the prob that sales are 10000 a day \n",
    "stats.norm(μ, σ)\n",
    "μ  = 12000 #( * to get mean \\ mean TAB)\n",
    "σ= 2000 #(* to get sigma \\ sigma TAB)\n",
    "sales= stats.norm(μ, σ)\n"
   ]
  },
  {
   "cell_type": "code",
   "execution_count": null,
   "id": "b4abcf72",
   "metadata": {},
   "outputs": [],
   "source": []
  },
  {
   "cell_type": "markdown",
   "id": "dd6d07d5",
   "metadata": {},
   "source": [
    "# Mini exercise \n",
    "The average battery life for a fully charges i-phone 12 is 14 hrs with SD of 1.5 hrs \n",
    "   -   what kind of probability distrubution represents the random variable \" batery life in hours\"?\n",
    "   -   what us the probability that cell phone battery lasts for exactly 12 hrs \n",
    "   -   what is the probability that cell phone battery lasts for 12 hours or less\n",
    "   -   how many hours do the battery lasts for top 25% longest lasting phones \n"
   ]
  },
  {
   "cell_type": "code",
   "execution_count": 28,
   "id": "f75682bd",
   "metadata": {},
   "outputs": [],
   "source": [
    "# Solution\n",
    "# what kind of probability distrubution represents the random variable \" batery life in hours\"\n",
    "# defining the parameters for the distrubutions?\n",
    "μ = 14\n",
    "σ = 1.5\n",
    "\n",
    "# create a scipy object/ instance of this distrubution\n",
    "battery = stats.norm(μ, σ)"
   ]
  },
  {
   "cell_type": "code",
   "execution_count": 30,
   "id": "24d2f4cf",
   "metadata": {},
   "outputs": [
    {
     "data": {
      "text/plain": [
       "0.10934004978399577"
      ]
     },
     "execution_count": 30,
     "metadata": {},
     "output_type": "execute_result"
    }
   ],
   "source": [
    "# what us the probability that cell phone battery lastsmore than 16 hours \n",
    "battery.pdf(16)"
   ]
  },
  {
   "cell_type": "code",
   "execution_count": 35,
   "id": "b0178a99",
   "metadata": {},
   "outputs": [
    {
     "data": {
      "text/plain": [
       "0.10934004978399577"
      ]
     },
     "execution_count": 35,
     "metadata": {},
     "output_type": "execute_result"
    }
   ],
   "source": [
    "# what us the probability that cell phone battery lasts for exactly 12 hrs\n",
    "battery. pdf(12)"
   ]
  },
  {
   "cell_type": "code",
   "execution_count": 36,
   "id": "622b0952",
   "metadata": {},
   "outputs": [
    {
     "data": {
      "text/plain": [
       "0.09121121972586788"
      ]
     },
     "execution_count": 36,
     "metadata": {},
     "output_type": "execute_result"
    }
   ],
   "source": [
    "# what is the probability that cell phone battery lasts for 12 hours or less\n",
    "battery.cdf(12)"
   ]
  },
  {
   "cell_type": "code",
   "execution_count": 37,
   "id": "43b7720e",
   "metadata": {},
   "outputs": [
    {
     "data": {
      "text/plain": [
       "15.011734625294123"
      ]
     },
     "execution_count": 37,
     "metadata": {},
     "output_type": "execute_result"
    }
   ],
   "source": [
    "#how many hours do the battery lasts for top 25% longest lasting phones\n",
    "battery.isf(0.25)"
   ]
  },
  {
   "cell_type": "markdown",
   "id": "258ab843",
   "metadata": {},
   "source": [
    "# Binomial Distrubution \n",
    "\n",
    "- Binomial distrubution is a descrete probability distribution \n",
    "\n",
    "Defined by :\n",
    "\n",
    "    - num of trials (sequence of n trials)\n",
    "    - probability of 'success'in each trial \n",
    "    \n",
    "Assumptions: \n",
    "\n",
    "    - 2 potential outcome per trial \n",
    "    - probability of sucess is same across all trials \n",
    "    - each trial is independent "
   ]
  },
  {
   "cell_type": "code",
   "execution_count": 44,
   "id": "99f0322e",
   "metadata": {},
   "outputs": [],
   "source": [
    "# example: suppose we flip a fair coin 5 times in a row. What is probability of getting 1 head \n",
    "n_trials = 5 \n",
    "p = 0.5\n",
    "flips = stats.binom(n_trials, p)"
   ]
  },
  {
   "cell_type": "code",
   "execution_count": 45,
   "id": "5672cf22",
   "metadata": {},
   "outputs": [
    {
     "data": {
      "text/plain": [
       "<scipy.stats._distn_infrastructure.rv_frozen at 0x7f86a0b33fa0>"
      ]
     },
     "execution_count": 45,
     "metadata": {},
     "output_type": "execute_result"
    }
   ],
   "source": [
    "flips \n"
   ]
  },
  {
   "cell_type": "code",
   "execution_count": 47,
   "id": "676bd8cb",
   "metadata": {},
   "outputs": [
    {
     "data": {
      "text/plain": [
       "0.3125"
      ]
     },
     "execution_count": 47,
     "metadata": {},
     "output_type": "execute_result"
    }
   ],
   "source": [
    "flips.pmf(2)"
   ]
  },
  {
   "cell_type": "markdown",
   "id": "c6adeb4c",
   "metadata": {},
   "source": [
    "# rigged coin distribution \n",
    "- probability of sucess(getting 'head' in a coin toss)=0.7\n",
    "- number of trials = 5 "
   ]
  },
  {
   "cell_type": "code",
   "execution_count": 49,
   "id": "cb658637",
   "metadata": {},
   "outputs": [],
   "source": [
    "# what is probability of getting 5 head \n",
    "trials = 5 \n",
    "p= 0.7 \n",
    "flips = stats.binom(n_trials, p)"
   ]
  },
  {
   "cell_type": "code",
   "execution_count": 52,
   "id": "ae03b9c0",
   "metadata": {},
   "outputs": [
    {
     "data": {
      "text/plain": [
       "0.16806999999999994"
      ]
     },
     "execution_count": 52,
     "metadata": {},
     "output_type": "execute_result"
    }
   ],
   "source": [
    "stats.binom(5, 0.7).pmf(5)"
   ]
  },
  {
   "cell_type": "markdown",
   "id": "b507870d",
   "metadata": {},
   "source": [
    "#### You are taking a mulitpple choice test consits of 30 questions that you forgot to study for. you have 4 possible answers and you will choose one at random . What is the probability you get 11 or more question right. "
   ]
  },
  {
   "cell_type": "code",
   "execution_count": 53,
   "id": "aace4d53",
   "metadata": {},
   "outputs": [
    {
     "data": {
      "text/plain": [
       "0.10572812269266013"
      ]
     },
     "execution_count": 53,
     "metadata": {},
     "output_type": "execute_result"
    }
   ],
   "source": [
    "\n",
    "trial = 30 \n",
    "p = 0.25 \n",
    "stats.binom(30, 0.25).sf(10)\n"
   ]
  },
  {
   "cell_type": "markdown",
   "id": "f5d1168f",
   "metadata": {},
   "source": [
    "#### suppose there is a 5% cahnce that a codeup students will show up to class late. Whith a class of 20, what is the likelihood that everyone shows up on time \n"
   ]
  },
  {
   "cell_type": "code",
   "execution_count": 56,
   "id": "fca7e468",
   "metadata": {},
   "outputs": [
    {
     "data": {
      "text/plain": [
       "0.3584859224085422"
      ]
     },
     "execution_count": 56,
     "metadata": {},
     "output_type": "execute_result"
    }
   ],
   "source": [
    "trials = 20\n",
    "p = 0.05\n",
    "stats.binom(20, 0.05).pmf(0)"
   ]
  },
  {
   "cell_type": "code",
   "execution_count": null,
   "id": "daf87841",
   "metadata": {},
   "outputs": [],
   "source": []
  }
 ],
 "metadata": {
  "kernelspec": {
   "display_name": "Python 3",
   "language": "python",
   "name": "python3"
  },
  "language_info": {
   "codemirror_mode": {
    "name": "ipython",
    "version": 3
   },
   "file_extension": ".py",
   "mimetype": "text/x-python",
   "name": "python",
   "nbconvert_exporter": "python",
   "pygments_lexer": "ipython3",
   "version": "3.8.8"
  }
 },
 "nbformat": 4,
 "nbformat_minor": 5
}
