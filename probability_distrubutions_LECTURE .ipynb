{
 "cells": [
  {
   "cell_type": "code",
   "execution_count": 27,
   "id": "9155bb90",
   "metadata": {},
   "outputs": [],
   "source": [
    "import matplotlib.pyplot as plt\n",
    "import numpy as np \n",
    "import pandas as pd \n",
    "from scipy import stats \n"
   ]
  },
  {
   "cell_type": "markdown",
   "id": "35a95f07",
   "metadata": {},
   "source": [
    "# Probability Distrubution: \n",
    "- sum of all probability in your sample = 1 \n",
    "\n",
    "# Types of Probability distrubution \n",
    "   - Discrete \n",
    "   - Continous \n",
    "    \n",
    "    \n",
    "    "
   ]
  },
  {
   "cell_type": "markdown",
   "id": "215f7c94",
   "metadata": {},
   "source": [
    "# Types of Distributions \n",
    "- Uniform \n",
    "-Normal \n",
    "-Binomial \n",
    "-Poisson "
   ]
  },
  {
   "cell_type": "code",
   "execution_count": 4,
   "id": "7ab7aa2f",
   "metadata": {},
   "outputs": [
    {
     "data": {
      "text/plain": [
       "<scipy.stats._distn_infrastructure.rv_frozen at 0x7f86f0f91760>"
      ]
     },
     "execution_count": 4,
     "metadata": {},
     "output_type": "execute_result"
    }
   ],
   "source": [
    "# create a scipy object for undelying distribution \n",
    "die_distrub= stats.randint(1,7)\n",
    "die_distrub"
   ]
  },
  {
   "cell_type": "markdown",
   "id": "5a6898c1",
   "metadata": {},
   "source": [
    "# PDF / PMF\n",
    "- Probability our random variable takes on a given value.\n",
    "    - pdf : probability density function, for continuous distributions\n",
    "    - pmf : probability mass function, for discrete distributions"
   ]
  },
  {
   "cell_type": "code",
   "execution_count": 6,
   "id": "bce80cb4",
   "metadata": {},
   "outputs": [
    {
     "data": {
      "text/plain": [
       "0.16666666666666666"
      ]
     },
     "execution_count": 6,
     "metadata": {},
     "output_type": "execute_result"
    }
   ],
   "source": [
    "# probability of rolling 3 \n",
    "die_distrub.pmf(3)"
   ]
  },
  {
   "cell_type": "markdown",
   "id": "1c983245",
   "metadata": {},
   "source": [
    "# CDF & PPF\n",
    "- Probability our random variable takes on a value less than or equal to\n",
    "a given p oint.\n",
    "    - cdf : cumulative density function, given a value, what's the proba-bility?\n",
    "    - ppf : percent point function, given a probability, what's the value?"
   ]
  },
  {
   "cell_type": "code",
   "execution_count": 8,
   "id": "891f7307",
   "metadata": {},
   "outputs": [
    {
     "data": {
      "text/plain": [
       "0.5"
      ]
     },
     "execution_count": 8,
     "metadata": {},
     "output_type": "execute_result"
    }
   ],
   "source": [
    "# prob of rolling 3 or less \n",
    "die_distrub.cdf(3)"
   ]
  },
  {
   "cell_type": "code",
   "execution_count": 9,
   "id": "5c4d90f8",
   "metadata": {},
   "outputs": [
    {
     "data": {
      "text/plain": [
       "3.0"
      ]
     },
     "execution_count": 9,
     "metadata": {},
     "output_type": "execute_result"
    }
   ],
   "source": [
    "# prob calculate value of random variable \n",
    "die_distrub.ppf(0.5)"
   ]
  },
  {
   "cell_type": "code",
   "execution_count": null,
   "id": "ec454028",
   "metadata": {},
   "outputs": [],
   "source": []
  },
  {
   "cell_type": "markdown",
   "id": "97a8a622",
   "metadata": {},
   "source": [
    "#SF & ISF\n",
    "- Probability our random variable takes on a value greater than a given\n",
    "point\n",
    "    - sf : survival function, given a value, what's the probability?\n",
    "    - isf : inverse survival function, given a probability, what's the value?"
   ]
  },
  {
   "cell_type": "code",
   "execution_count": 10,
   "id": "767e2586",
   "metadata": {},
   "outputs": [
    {
     "data": {
      "text/plain": [
       "0.33333333333333337"
      ]
     },
     "execution_count": 10,
     "metadata": {},
     "output_type": "execute_result"
    }
   ],
   "source": [
    "# lkelihood we roll a value higher than 4 \n",
    "die_distrub.sf(4)"
   ]
  },
  {
   "cell_type": "code",
   "execution_count": 11,
   "id": "9a67ccbe",
   "metadata": {},
   "outputs": [
    {
     "data": {
      "text/plain": [
       "4.0"
      ]
     },
     "execution_count": 11,
     "metadata": {},
     "output_type": "execute_result"
    }
   ],
   "source": [
    "# there is a 1/3 chance a dice roll will be higher than what value (inverse of above) \n",
    "die_distrub.isf(1/3)"
   ]
  },
  {
   "cell_type": "markdown",
   "id": "e1477216",
   "metadata": {},
   "source": [
    "# https://classroom.google.com/u/1/c/Mzg3MTg5NzU1Njk1/m/Mzg3MTg5ODk2NTMw/details"
   ]
  },
  {
   "cell_type": "markdown",
   "id": "25767bed",
   "metadata": {},
   "source": [
    "# Normal Distrubution \n",
    "\n",
    "- bell shaped \n",
    "- observation closer to mean \n",
    "- 2 parameters : mean and SD\n",
    "- common in nature eg: height, time to get point A to B , manufracturing "
   ]
  },
  {
   "cell_type": "code",
   "execution_count": 26,
   "id": "77e4d368",
   "metadata": {},
   "outputs": [
    {
     "ename": "NameError",
     "evalue": "name 'mean' is not defined",
     "output_type": "error",
     "traceback": [
      "\u001b[0;31m---------------------------------------------------------------------------\u001b[0m",
      "\u001b[0;31mNameError\u001b[0m                                 Traceback (most recent call last)",
      "\u001b[0;32m<ipython-input-26-7aae1ae413de>\u001b[0m in \u001b[0;36m<module>\u001b[0;34m\u001b[0m\n\u001b[0;32m----> 1\u001b[0;31m \u001b[0mstats\u001b[0m\u001b[0;34m.\u001b[0m\u001b[0mnorm\u001b[0m\u001b[0;34m(\u001b[0m\u001b[0mmean\u001b[0m\u001b[0;34m,\u001b[0m \u001b[0mstd_dev\u001b[0m\u001b[0;34m)\u001b[0m\u001b[0;34m\u001b[0m\u001b[0;34m\u001b[0m\u001b[0m\n\u001b[0m",
      "\u001b[0;31mNameError\u001b[0m: name 'mean' is not defined"
     ]
    }
   ],
   "source": [
    "stats.norm(mean, std_dev)"
   ]
  },
  {
   "cell_type": "code",
   "execution_count": 40,
   "id": "7de1cd88",
   "metadata": {},
   "outputs": [],
   "source": [
    "# what is the prob that sales are 10000 a day \n",
    "stats.norm(μ, σ)\n",
    "μ  = 12000 #( * to get mean \\ mean TAB)\n",
    "σ= 2000 #(* to get sigma \\ sigma TAB)\n",
    "sales= stats.norm(μ, σ)\n"
   ]
  },
  {
   "cell_type": "code",
   "execution_count": null,
   "id": "956cacdf",
   "metadata": {},
   "outputs": [],
   "source": []
  },
  {
   "cell_type": "markdown",
   "id": "9612fa95",
   "metadata": {},
   "source": [
    "# Mini exercise \n",
    "The average battery life for a fully charges i-phone 12 is 14 hrs with SD of 1.5 hrs \n",
    "   -   what kind of probability distrubution represents the random variable \" batery life in hours\"?\n",
    "   -   what us the probability that cell phone battery lasts for exactly 12 hrs \n",
    "   -   what is the probability that cell phone battery lasts for 12 hours or less\n",
    "   -   how many hours do the battery lasts for top 25% longest lasting phones \n"
   ]
  },
  {
   "cell_type": "code",
   "execution_count": 28,
   "id": "7138b999",
   "metadata": {},
   "outputs": [],
   "source": [
    "# Solution\n",
    "# what kind of probability distrubution represents the random variable \" batery life in hours\"\n",
    "# defining the parameters for the distrubutions?\n",
    "μ = 14\n",
    "σ = 1.5\n",
    "\n",
    "# create a scipy object/ instance of this distrubution\n",
    "battery = stats.norm(μ, σ)"
   ]
  },
  {
   "cell_type": "code",
   "execution_count": 30,
   "id": "c5216264",
   "metadata": {},
   "outputs": [
    {
     "data": {
      "text/plain": [
       "0.10934004978399577"
      ]
     },
     "execution_count": 30,
     "metadata": {},
     "output_type": "execute_result"
    }
   ],
   "source": [
    "# what us the probability that cell phone battery lastsmore than 16 hours \n",
    "battery.pdf(16)"
   ]
  },
  {
   "cell_type": "code",
   "execution_count": 35,
   "id": "d69b122c",
   "metadata": {},
   "outputs": [
    {
     "data": {
      "text/plain": [
       "0.10934004978399577"
      ]
     },
     "execution_count": 35,
     "metadata": {},
     "output_type": "execute_result"
    }
   ],
   "source": [
    "# what us the probability that cell phone battery lasts for exactly 12 hrs\n",
    "battery. pdf(12)"
   ]
  },
  {
   "cell_type": "code",
   "execution_count": 36,
   "id": "90c4d8b9",
   "metadata": {},
   "outputs": [
    {
     "data": {
      "text/plain": [
       "0.09121121972586788"
      ]
     },
     "execution_count": 36,
     "metadata": {},
     "output_type": "execute_result"
    }
   ],
   "source": [
    "# what is the probability that cell phone battery lasts for 12 hours or less\n",
    "battery.cdf(12)"
   ]
  },
  {
   "cell_type": "code",
   "execution_count": 37,
   "id": "8158ea79",
   "metadata": {},
   "outputs": [
    {
     "data": {
      "text/plain": [
       "15.011734625294123"
      ]
     },
     "execution_count": 37,
     "metadata": {},
     "output_type": "execute_result"
    }
   ],
   "source": [
    "#how many hours do the battery lasts for top 25% longest lasting phones\n",
    "battery.isf(0.25)"
   ]
  },
  {
   "cell_type": "markdown",
   "id": "3acc260b",
   "metadata": {},
   "source": [
    "# Binomial Distrubution \n",
    "\n",
    "- Binomial distrubution is a descrete probability distribution \n",
    "- \n",
    "\n",
    "Defined by :\n",
    "\n",
    "    - num of trials (sequence of n trials)\n",
    "    - probability of 'success'in each trial \n",
    "    \n",
    "Assumptions: \n",
    "\n",
    "    - 2 potential outcome per trial \n",
    "    - probability of sucess is same across all trials \n",
    "    - each trial is independent "
   ]
  },
  {
   "cell_type": "code",
   "execution_count": 44,
   "id": "66eb6586",
   "metadata": {},
   "outputs": [],
   "source": [
    "# example: suppose we flip a fair coin 5 times in a row. What is probability of getting 1 head \n",
    "n_trials = 5 \n",
    "p = 0.5\n",
    "flips = stats.binom(n_trials, p)"
   ]
  },
  {
   "cell_type": "code",
   "execution_count": 45,
   "id": "07111ed7",
   "metadata": {},
   "outputs": [
    {
     "data": {
      "text/plain": [
       "<scipy.stats._distn_infrastructure.rv_frozen at 0x7f86a0b33fa0>"
      ]
     },
     "execution_count": 45,
     "metadata": {},
     "output_type": "execute_result"
    }
   ],
   "source": [
    "flips \n"
   ]
  },
  {
   "cell_type": "code",
   "execution_count": 47,
   "id": "cde4980f",
   "metadata": {},
   "outputs": [
    {
     "data": {
      "text/plain": [
       "0.3125"
      ]
     },
     "execution_count": 47,
     "metadata": {},
     "output_type": "execute_result"
    }
   ],
   "source": [
    "flips.pmf(2)"
   ]
  },
  {
   "cell_type": "markdown",
   "id": "11e74ccd",
   "metadata": {},
   "source": [
    "# rigged coin distribution \n",
    "- probability of sucess(getting 'head' in a coin toss)=0.7\n",
    "- number of trials = 5 "
   ]
  },
  {
   "cell_type": "code",
   "execution_count": 49,
   "id": "26963a23",
   "metadata": {},
   "outputs": [],
   "source": [
    "# what is probability of getting 5 head \n",
    "trials = 5 \n",
    "p= 0.7 \n",
    "flips = stats.binom(n_trials, p)"
   ]
  },
  {
   "cell_type": "code",
   "execution_count": 52,
   "id": "f28b9fc2",
   "metadata": {},
   "outputs": [
    {
     "data": {
      "text/plain": [
       "0.16806999999999994"
      ]
     },
     "execution_count": 52,
     "metadata": {},
     "output_type": "execute_result"
    }
   ],
   "source": [
    "stats.binom(5, 0.7).pmf(5)"
   ]
  },
  {
   "cell_type": "markdown",
   "id": "5668da21",
   "metadata": {},
   "source": [
    "#### You are taking a mulitpple choice test consits of 30 questions that you forgot to study for. you have 4 possible answers and you will choose one at random . What is the probability you get 11 or more question right. "
   ]
  },
  {
   "cell_type": "code",
   "execution_count": 53,
   "id": "dcfcd064",
   "metadata": {},
   "outputs": [
    {
     "data": {
      "text/plain": [
       "0.10572812269266013"
      ]
     },
     "execution_count": 53,
     "metadata": {},
     "output_type": "execute_result"
    }
   ],
   "source": [
    "\n",
    "trial = 30 \n",
    "p = 0.25 \n",
    "stats.binom(30, 0.25).sf(10)\n"
   ]
  },
  {
   "cell_type": "markdown",
   "id": "c52aa9d7",
   "metadata": {},
   "source": [
    "#### Suppose there is a 5% cahnce that a codeup students will show up to class late. Whith a class of 20, what is the likelihood that everyone shows up on time \n"
   ]
  },
  {
   "cell_type": "code",
   "execution_count": 56,
   "id": "0acee00b",
   "metadata": {},
   "outputs": [
    {
     "data": {
      "text/plain": [
       "0.3584859224085422"
      ]
     },
     "execution_count": 56,
     "metadata": {},
     "output_type": "execute_result"
    }
   ],
   "source": [
    "trials = 20\n",
    "p = 0.05\n",
    "stats.binom(20, 0.05).pmf(0)"
   ]
  },
  {
   "cell_type": "code",
   "execution_count": 58,
   "id": "09014673",
   "metadata": {},
   "outputs": [
    {
     "data": {
      "text/plain": [
       "0.35848592240854193"
      ]
     },
     "execution_count": 58,
     "metadata": {},
     "output_type": "execute_result"
    }
   ],
   "source": [
    "# inverse of pmf \n",
    "1- stats.binom(20, 0.05).sf(0)"
   ]
  },
  {
   "cell_type": "markdown",
   "id": "c3ddad0e",
   "metadata": {},
   "source": [
    "Mini Exercise \n",
    "\n",
    "The probability that a visistor will make a purchase when browsing in your web-store is 1.5%. You expect 350web-visitors today \n",
    "\n",
    "1. waht kind of probability distribution you have for \"# hunmber of visitors who end up making a purchase?\n",
    "\n",
    "2. what is probability 12 or more visitors will make a purchase?\n",
    "\n",
    "3. What is probability that 10 or less visitors will make a purcahse ?"
   ]
  },
  {
   "cell_type": "code",
   "execution_count": 59,
   "id": "373703cf",
   "metadata": {},
   "outputs": [],
   "source": [
    "trial;s = 350\n",
    "p = 0.015\n",
    "purchase = stats.binom(trials, p) "
   ]
  },
  {
   "cell_type": "code",
   "execution_count": 60,
   "id": "b5d41212",
   "metadata": {},
   "outputs": [
    {
     "data": {
      "text/plain": [
       "9.159535425130549e-14"
      ]
     },
     "execution_count": 60,
     "metadata": {},
     "output_type": "execute_result"
    }
   ],
   "source": [
    "#1 \n",
    "purchase.pmf(10)"
   ]
  },
  {
   "cell_type": "code",
   "execution_count": 62,
   "id": "406f076e",
   "metadata": {},
   "outputs": [
    {
     "data": {
      "text/plain": [
       "1.3676284165992493e-19"
      ]
     },
     "execution_count": 62,
     "metadata": {},
     "output_type": "execute_result"
    }
   ],
   "source": [
    "# 2 \n",
    "purchase.sf(12)"
   ]
  },
  {
   "cell_type": "code",
   "execution_count": 63,
   "id": "609560ba",
   "metadata": {},
   "outputs": [
    {
     "data": {
      "text/plain": [
       "0.9999999999999071"
      ]
     },
     "execution_count": 63,
     "metadata": {},
     "output_type": "execute_result"
    }
   ],
   "source": [
    "purchase.cdf(9)"
   ]
  },
  {
   "cell_type": "markdown",
   "id": "92a0a481",
   "metadata": {},
   "source": [
    "# Poisson Distribution \n",
    "\n",
    "- Discrete Probability distribution \n",
    "- express the probability of given of events (un-like binomial distribution) \n",
    "- Only one paramater lambda(Λ,)which is the rate at which the event happens "
   ]
  },
  {
   "cell_type": "markdown",
   "id": "ee37679f",
   "metadata": {},
   "source": [
    "Example: \n",
    "\n",
    "Suppose that astronomers estimate that large meteroites(above a certain size) hit the earth on average once every 100 years (Λ = 1 event per 100 years) and that the number of meteroite hits follows a Poisson distrubution \n",
    "What is the probability of K - 0 meteroite hits in the next 100 years ?\n",
    "\n",
    "\n"
   ]
  },
  {
   "cell_type": "markdown",
   "id": "c94c118d",
   "metadata": {},
   "source": [
    "# mini Exercise: \n",
    "\n",
    "Average number of customers going through CVS drive-through is 8 per hour.\n",
    "\n",
    "- What kind of distribution we are working with?\n",
    "- What are the appropriate defining parameters for this distribution?\n",
    "- Create a Scipy object/instance for this distribution\n",
    "- Use the object create above and choose appropriate method (e.g. pmf, cdf, ppf etc.) to calculate the probability that 11 cars customers will go through in next hr.\n",
    "\n",
    "    \n",
    "  "
   ]
  },
  {
   "cell_type": "code",
   "execution_count": 70,
   "id": "67ea6228",
   "metadata": {},
   "outputs": [],
   "source": [
    " # Average # of customer going through CVS drive through is 8 per hour\n",
    "    \n",
    "    #1. what kind of distribution we working with "
   ]
  },
  {
   "cell_type": "code",
   "execution_count": 71,
   "id": "73c9b911",
   "metadata": {},
   "outputs": [
    {
     "data": {
      "text/plain": [
       "0.07219020642293475"
      ]
     },
     "execution_count": 71,
     "metadata": {},
     "output_type": "execute_result"
    }
   ],
   "source": [
    "λ = 8 # per hrs \n",
    "stats.poisson (λ).pmf(11)"
   ]
  },
  {
   "cell_type": "code",
   "execution_count": 72,
   "id": "251ca413",
   "metadata": {},
   "outputs": [
    {
     "data": {
      "text/plain": [
       "0.07219020642293475"
      ]
     },
     "execution_count": 72,
     "metadata": {},
     "output_type": "execute_result"
    }
   ],
   "source": [
    "λ = 8 # per hour\n",
    "\n",
    "stats.poisson(λ).pmf(11)"
   ]
  },
  {
   "cell_type": "code",
   "execution_count": 73,
   "id": "f0a81e58",
   "metadata": {},
   "outputs": [
    {
     "data": {
      "image/png": "[encoded data removed]",
      "text/plain": [
       "<Figure size 432x288 with 1 Axes>"
      ]
     },
     "metadata": {
      "needs_background": "light"
     },
     "output_type": "display_data"
    }
   ],
   "source": [
    "x = np.arange(0,30)\n",
    "y = stats.poisson(λ).pmf(x)\n",
    "\n",
    "plt.bar(x,y)\n",
    "plt.xlabel('Number of cars in drive-thru per hour')\n",
    "plt.ylabel('P(X)')\n",
    "plt.title('Poisson distribution $λ = 8$');"
   ]
  },
  {
   "cell_type": "markdown",
   "id": "a9311b9a",
   "metadata": {},
   "source": [
    "Summary:\n",
    "\n",
    "    Types of Distribution:\n",
    "\n",
    "1. Normal distribution\n",
    "- mean($\\mu$)\n",
    "- std dev ($\\sigma$)\n",
    "- stats.norm($\\mu$, $\\sigma$ )\n",
    "\n",
    "2. Binomial distribution\n",
    "- number of trials (n)\n",
    "- probability of success (p)\n",
    "- stats.binom(n, p )\n",
    "- X = number of success in trials\n",
    "\n",
    "3. Poisson distribution\n",
    "- rate ($\\lambda$)\n",
    "- stats.poisson($\\lambda$)\n",
    "- X = number of events per unit time\n",
    "\n",
    "\n",
    "For a defined probability distribution above, we can answer different questions using following functions:\n",
    "\n",
    "- pmf/pdf\n",
    "- cdf/ppf\n",
    "- sf/isf\n"
   ]
  },
  {
   "cell_type": "code",
   "execution_count": null,
   "id": "13f62c4e",
   "metadata": {},
   "outputs": [],
   "source": []
  }
 ],
 "metadata": {
  "kernelspec": {
   "display_name": "Python 3",
   "language": "python",
   "name": "python3"
  },
  "language_info": {
   "codemirror_mode": {
    "name": "ipython",
    "version": 3
   },
   "file_extension": ".py",
   "mimetype": "text/x-python",
   "name": "python",
   "nbconvert_exporter": "python",
   "pygments_lexer": "ipython3",
   "version": "3.8.8"
  }
 },
 "nbformat": 4,
 "nbformat_minor": 5
}
