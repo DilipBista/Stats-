{
 "cells": [
  {
   "cell_type": "code",
   "execution_count": 36,
   "id": "db5f5108",
   "metadata": {},
   "outputs": [],
   "source": [
    "import math \n",
    "import numpy as np\n",
    "import pandas as pd\n",
    "import matplotlib.pyplot as plt\n",
    "import seaborn as sns\n",
    "from scipy import stats\n",
    "from math import sqrt\n",
    "from pydataset import data\n",
    "alpha = 0.05"
   ]
  },
  {
   "cell_type": "markdown",
   "id": "ccfcc3fc",
   "metadata": {},
   "source": [
    "# Exercises "
   ]
  },
  {
   "cell_type": "markdown",
   "id": "2500753e",
   "metadata": {},
   "source": [
    "# Null hypothesis H0, Alternate hypothesis H1, and preset level of significance α \n",
    "\n",
    "- if the evidence against H0 is strong enough, we reject H0 and adopt H1.\n",
    "- The level of significance  α (ALPHA) is the probability of rejecting H0 when it is in fact true \n",
    "\n",
    "\n",
    "TEST CONCLUSION \n",
    "\n",
    "- if P-value <= α, we reject H0 and say that the data are significant at level α. If p-value >α, we do not reject H0.\n",
    "\n"
   ]
  },
  {
   "cell_type": "markdown",
   "id": "9e4f3ef8",
   "metadata": {},
   "source": [
    "For each of the following questions, formulate a null and alternative hypothesis (be as specific as you can be), then give an example of what a true positive, true negative, type I and type II errors would look like. Note that some of the questions are intentionally phrased in a vague way. It is your job to reword these as more precise questions that could be tested.\n",
    "\n",
    "\n"
   ]
  },
  {
   "cell_type": "markdown",
   "id": "23ea2c21",
   "metadata": {},
   "source": [
    "          Has the network latency gone up since we switched internet service roviders?\n"
   ]
  },
  {
   "cell_type": "code",
   "execution_count": 108,
   "id": "980eb077",
   "metadata": {},
   "outputs": [
    {
     "data": {
      "text/plain": [
       "' \\nH0- Network latency has relation internet service providers \\n\\nH1- internet speed has no relation to network latency. (better internet spped attracts more customers )\\n\\nType 1 error: \\n\\nType 2 error:\\n\\n'"
      ]
     },
     "execution_count": 108,
     "metadata": {},
     "output_type": "execute_result"
    }
   ],
   "source": [
    "''' \n",
    "H0- Network latency has relation internet service providers \n",
    "\n",
    "H1- internet speed has no relation to network latency. (better internet spped attracts more customers )\n",
    "\n",
    "Type 1 error: \n",
    "\n",
    "Type 2 error:\n",
    "\n",
    "'''\n",
    "\n"
   ]
  },
  {
   "cell_type": "markdown",
   "id": "ab46fd42",
   "metadata": {},
   "source": [
    "                Is the website redesign any good?\n"
   ]
  },
  {
   "cell_type": "code",
   "execution_count": null,
   "id": "40c9bf53",
   "metadata": {},
   "outputs": [],
   "source": [
    "H0- website redisine no difference \n",
    "\n",
    "H1- website redisine increases visitors \n",
    "\n",
    "Type 1 error:\n",
    "Type 2 error:"
   ]
  },
  {
   "cell_type": "markdown",
   "id": "aa22c610",
   "metadata": {},
   "source": [
    "                            Is our television ad driving more sales?"
   ]
  },
  {
   "cell_type": "code",
   "execution_count": null,
   "id": "5954872f",
   "metadata": {},
   "outputs": [],
   "source": [
    "H0- increased ad driving more slaes \n",
    "\n",
    "H1- increased add do not increases sales \n",
    "\n",
    "Type 1 error -\n",
    "\n",
    "Type 2 error - "
   ]
  },
  {
   "cell_type": "code",
   "execution_count": null,
   "id": "6df1cf08",
   "metadata": {},
   "outputs": [],
   "source": []
  },
  {
   "cell_type": "markdown",
   "id": "cef2aefe",
   "metadata": {},
   "source": [
    "# Exercise \n",
    "\n",
    "T-Test "
   ]
  },
  {
   "cell_type": "markdown",
   "id": "d1201b65",
   "metadata": {},
   "source": [
    "## Flow of Work :\n",
    "A. Plot distribution \n",
    "\n",
    "B. Set Hypothesis \n",
    "    - example : \n",
    "    \n",
    "    - $H_{0}$: Mean of monthly charges of churned customers <= Mean of monthly charges of customers who haven't churned\n",
    "    - $H_{a}$: Mean of monthly charges of churned customers > Mean of monthly charges of customers who haven't churned\n",
    "\n",
    "C. Set Alpha \n",
    "\n",
    "\n",
    "D. Verify Assumptions \n",
    "        - Independent Samples. YES! no observations in the churn sample exist in the no-churn sample.\n",
    "\n",
    "        - Normal Distribution, or at least 30 observations and \"kinda\" normal. The more observations you have, the less \"normal\" it needs to appear. (CLT). YES! Plenty of observations\n",
    "\n",
    "        - Equal Variances (the scipy methods we will use has an argument to handle when variances aren't equal).\n",
    "        - eg. churn_sample.var(), no_churn_sample.var()                  \n",
    "\n",
    " E. Compute test statistic and probability (t-statistic & p-value)\n",
    "    - scipy.stats.ttest_1samp\n",
    "    - scipy.stats.ttest_ind\n",
    "\n",
    "\n",
    " F. Decide \n",
    "    - example: \n",
    "    \n",
    "    - is t < 0  AND is p/2 < alpha      "
   ]
  },
  {
   "cell_type": "markdown",
   "id": "a7ecd42b",
   "metadata": {},
   "source": [
    "## Question \n",
    "\n",
    "Ace Realty wants to determine whether the average time it takes to sell homes is different for its two offices. A sample of 40 sales from office #1 revealed a mean of 90 days and a standard deviation of 15 days. A sample of 50 sales from office #2 revealed a mean of 100 days and a standard deviation of 20 days. Use a .05 level of significance."
   ]
  },
  {
   "cell_type": "code",
   "execution_count": null,
   "id": "8257dff2",
   "metadata": {},
   "outputs": [],
   "source": [
    "#  Office one sample of 40 sales \n",
    "mean1 = 90 days \n",
    "sd1 = 15 days\n",
    "sales1= 40days \n",
    "    \n",
    "# Office 2 of 50\n",
    "mean2 = 100\n",
    "sd2 = 20\n",
    "sales2= 50days "
   ]
  },
  {
   "cell_type": "code",
   "execution_count": null,
   "id": "28018433",
   "metadata": {},
   "outputs": [],
   "source": [
    "# (stats.ttest_ind_from_stats) "
   ]
  },
  {
   "cell_type": "code",
   "execution_count": 89,
   "id": "222f2027",
   "metadata": {},
   "outputs": [
    {
     "data": {
      "text/plain": [
       "Ttest_indResult(statistic=-2.7091418459143854, pvalue=0.00811206270346016)"
      ]
     },
     "execution_count": 89,
     "metadata": {},
     "output_type": "execute_result"
    }
   ],
   "source": [
    "stats.ttest_ind_from_stats(90, 15, 40, 100, 20, 50, equal_var=False)"
   ]
  },
  {
   "cell_type": "markdown",
   "id": "8d655d76",
   "metadata": {},
   "source": [
    "Load the mpg dataset and use it to answer the following questions:\n",
    "\n",
    "- Is there a difference in fuel-efficiency in cars from 2008 vs 1999?\n",
    "- Are compact cars more fuel-efficient than the average car?\n",
    "- Do manual cars get better gas mileage than automatic cars?"
   ]
  },
  {
   "cell_type": "code",
   "execution_count": 4,
   "id": "e6d34077",
   "metadata": {},
   "outputs": [],
   "source": [
    "mpg = data('mpg')"
   ]
  },
  {
   "cell_type": "code",
   "execution_count": 12,
   "id": "f9d47a9d",
   "metadata": {},
   "outputs": [
    {
     "data": {
      "text/html": [
       "<div>\n",
       "<style scoped>\n",
       "    .dataframe tbody tr th:only-of-type {\n",
       "        vertical-align: middle;\n",
       "    }\n",
       "\n",
       "    .dataframe tbody tr th {\n",
       "        vertical-align: top;\n",
       "    }\n",
       "\n",
       "    .dataframe thead th {\n",
       "        text-align: right;\n",
       "    }\n",
       "</style>\n",
       "<table border=\"1\" class=\"dataframe\">\n",
       "  <thead>\n",
       "    <tr style=\"text-align: right;\">\n",
       "      <th></th>\n",
       "      <th>1</th>\n",
       "      <th>2</th>\n",
       "      <th>3</th>\n",
       "      <th>4</th>\n",
       "      <th>5</th>\n",
       "      <th>6</th>\n",
       "      <th>7</th>\n",
       "      <th>8</th>\n",
       "      <th>9</th>\n",
       "      <th>10</th>\n",
       "      <th>...</th>\n",
       "      <th>225</th>\n",
       "      <th>226</th>\n",
       "      <th>227</th>\n",
       "      <th>228</th>\n",
       "      <th>229</th>\n",
       "      <th>230</th>\n",
       "      <th>231</th>\n",
       "      <th>232</th>\n",
       "      <th>233</th>\n",
       "      <th>234</th>\n",
       "    </tr>\n",
       "  </thead>\n",
       "  <tbody>\n",
       "    <tr>\n",
       "      <th>manufacturer</th>\n",
       "      <td>audi</td>\n",
       "      <td>audi</td>\n",
       "      <td>audi</td>\n",
       "      <td>audi</td>\n",
       "      <td>audi</td>\n",
       "      <td>audi</td>\n",
       "      <td>audi</td>\n",
       "      <td>audi</td>\n",
       "      <td>audi</td>\n",
       "      <td>audi</td>\n",
       "      <td>...</td>\n",
       "      <td>volkswagen</td>\n",
       "      <td>volkswagen</td>\n",
       "      <td>volkswagen</td>\n",
       "      <td>volkswagen</td>\n",
       "      <td>volkswagen</td>\n",
       "      <td>volkswagen</td>\n",
       "      <td>volkswagen</td>\n",
       "      <td>volkswagen</td>\n",
       "      <td>volkswagen</td>\n",
       "      <td>volkswagen</td>\n",
       "    </tr>\n",
       "    <tr>\n",
       "      <th>model</th>\n",
       "      <td>a4</td>\n",
       "      <td>a4</td>\n",
       "      <td>a4</td>\n",
       "      <td>a4</td>\n",
       "      <td>a4</td>\n",
       "      <td>a4</td>\n",
       "      <td>a4</td>\n",
       "      <td>a4 quattro</td>\n",
       "      <td>a4 quattro</td>\n",
       "      <td>a4 quattro</td>\n",
       "      <td>...</td>\n",
       "      <td>new beetle</td>\n",
       "      <td>new beetle</td>\n",
       "      <td>new beetle</td>\n",
       "      <td>passat</td>\n",
       "      <td>passat</td>\n",
       "      <td>passat</td>\n",
       "      <td>passat</td>\n",
       "      <td>passat</td>\n",
       "      <td>passat</td>\n",
       "      <td>passat</td>\n",
       "    </tr>\n",
       "    <tr>\n",
       "      <th>displ</th>\n",
       "      <td>1.8</td>\n",
       "      <td>1.8</td>\n",
       "      <td>2.0</td>\n",
       "      <td>2.0</td>\n",
       "      <td>2.8</td>\n",
       "      <td>2.8</td>\n",
       "      <td>3.1</td>\n",
       "      <td>1.8</td>\n",
       "      <td>1.8</td>\n",
       "      <td>2.0</td>\n",
       "      <td>...</td>\n",
       "      <td>2.0</td>\n",
       "      <td>2.5</td>\n",
       "      <td>2.5</td>\n",
       "      <td>1.8</td>\n",
       "      <td>1.8</td>\n",
       "      <td>2.0</td>\n",
       "      <td>2.0</td>\n",
       "      <td>2.8</td>\n",
       "      <td>2.8</td>\n",
       "      <td>3.6</td>\n",
       "    </tr>\n",
       "    <tr>\n",
       "      <th>year</th>\n",
       "      <td>1999</td>\n",
       "      <td>1999</td>\n",
       "      <td>2008</td>\n",
       "      <td>2008</td>\n",
       "      <td>1999</td>\n",
       "      <td>1999</td>\n",
       "      <td>2008</td>\n",
       "      <td>1999</td>\n",
       "      <td>1999</td>\n",
       "      <td>2008</td>\n",
       "      <td>...</td>\n",
       "      <td>1999</td>\n",
       "      <td>2008</td>\n",
       "      <td>2008</td>\n",
       "      <td>1999</td>\n",
       "      <td>1999</td>\n",
       "      <td>2008</td>\n",
       "      <td>2008</td>\n",
       "      <td>1999</td>\n",
       "      <td>1999</td>\n",
       "      <td>2008</td>\n",
       "    </tr>\n",
       "    <tr>\n",
       "      <th>cyl</th>\n",
       "      <td>4</td>\n",
       "      <td>4</td>\n",
       "      <td>4</td>\n",
       "      <td>4</td>\n",
       "      <td>6</td>\n",
       "      <td>6</td>\n",
       "      <td>6</td>\n",
       "      <td>4</td>\n",
       "      <td>4</td>\n",
       "      <td>4</td>\n",
       "      <td>...</td>\n",
       "      <td>4</td>\n",
       "      <td>5</td>\n",
       "      <td>5</td>\n",
       "      <td>4</td>\n",
       "      <td>4</td>\n",
       "      <td>4</td>\n",
       "      <td>4</td>\n",
       "      <td>6</td>\n",
       "      <td>6</td>\n",
       "      <td>6</td>\n",
       "    </tr>\n",
       "    <tr>\n",
       "      <th>trans</th>\n",
       "      <td>auto(l5)</td>\n",
       "      <td>manual(m5)</td>\n",
       "      <td>manual(m6)</td>\n",
       "      <td>auto(av)</td>\n",
       "      <td>auto(l5)</td>\n",
       "      <td>manual(m5)</td>\n",
       "      <td>auto(av)</td>\n",
       "      <td>manual(m5)</td>\n",
       "      <td>auto(l5)</td>\n",
       "      <td>manual(m6)</td>\n",
       "      <td>...</td>\n",
       "      <td>auto(l4)</td>\n",
       "      <td>manual(m5)</td>\n",
       "      <td>auto(s6)</td>\n",
       "      <td>manual(m5)</td>\n",
       "      <td>auto(l5)</td>\n",
       "      <td>auto(s6)</td>\n",
       "      <td>manual(m6)</td>\n",
       "      <td>auto(l5)</td>\n",
       "      <td>manual(m5)</td>\n",
       "      <td>auto(s6)</td>\n",
       "    </tr>\n",
       "    <tr>\n",
       "      <th>drv</th>\n",
       "      <td>f</td>\n",
       "      <td>f</td>\n",
       "      <td>f</td>\n",
       "      <td>f</td>\n",
       "      <td>f</td>\n",
       "      <td>f</td>\n",
       "      <td>f</td>\n",
       "      <td>4</td>\n",
       "      <td>4</td>\n",
       "      <td>4</td>\n",
       "      <td>...</td>\n",
       "      <td>f</td>\n",
       "      <td>f</td>\n",
       "      <td>f</td>\n",
       "      <td>f</td>\n",
       "      <td>f</td>\n",
       "      <td>f</td>\n",
       "      <td>f</td>\n",
       "      <td>f</td>\n",
       "      <td>f</td>\n",
       "      <td>f</td>\n",
       "    </tr>\n",
       "    <tr>\n",
       "      <th>cty</th>\n",
       "      <td>18</td>\n",
       "      <td>21</td>\n",
       "      <td>20</td>\n",
       "      <td>21</td>\n",
       "      <td>16</td>\n",
       "      <td>18</td>\n",
       "      <td>18</td>\n",
       "      <td>18</td>\n",
       "      <td>16</td>\n",
       "      <td>20</td>\n",
       "      <td>...</td>\n",
       "      <td>19</td>\n",
       "      <td>20</td>\n",
       "      <td>20</td>\n",
       "      <td>21</td>\n",
       "      <td>18</td>\n",
       "      <td>19</td>\n",
       "      <td>21</td>\n",
       "      <td>16</td>\n",
       "      <td>18</td>\n",
       "      <td>17</td>\n",
       "    </tr>\n",
       "    <tr>\n",
       "      <th>hwy</th>\n",
       "      <td>29</td>\n",
       "      <td>29</td>\n",
       "      <td>31</td>\n",
       "      <td>30</td>\n",
       "      <td>26</td>\n",
       "      <td>26</td>\n",
       "      <td>27</td>\n",
       "      <td>26</td>\n",
       "      <td>25</td>\n",
       "      <td>28</td>\n",
       "      <td>...</td>\n",
       "      <td>26</td>\n",
       "      <td>28</td>\n",
       "      <td>29</td>\n",
       "      <td>29</td>\n",
       "      <td>29</td>\n",
       "      <td>28</td>\n",
       "      <td>29</td>\n",
       "      <td>26</td>\n",
       "      <td>26</td>\n",
       "      <td>26</td>\n",
       "    </tr>\n",
       "    <tr>\n",
       "      <th>fl</th>\n",
       "      <td>p</td>\n",
       "      <td>p</td>\n",
       "      <td>p</td>\n",
       "      <td>p</td>\n",
       "      <td>p</td>\n",
       "      <td>p</td>\n",
       "      <td>p</td>\n",
       "      <td>p</td>\n",
       "      <td>p</td>\n",
       "      <td>p</td>\n",
       "      <td>...</td>\n",
       "      <td>r</td>\n",
       "      <td>r</td>\n",
       "      <td>r</td>\n",
       "      <td>p</td>\n",
       "      <td>p</td>\n",
       "      <td>p</td>\n",
       "      <td>p</td>\n",
       "      <td>p</td>\n",
       "      <td>p</td>\n",
       "      <td>p</td>\n",
       "    </tr>\n",
       "    <tr>\n",
       "      <th>class</th>\n",
       "      <td>compact</td>\n",
       "      <td>compact</td>\n",
       "      <td>compact</td>\n",
       "      <td>compact</td>\n",
       "      <td>compact</td>\n",
       "      <td>compact</td>\n",
       "      <td>compact</td>\n",
       "      <td>compact</td>\n",
       "      <td>compact</td>\n",
       "      <td>compact</td>\n",
       "      <td>...</td>\n",
       "      <td>subcompact</td>\n",
       "      <td>subcompact</td>\n",
       "      <td>subcompact</td>\n",
       "      <td>midsize</td>\n",
       "      <td>midsize</td>\n",
       "      <td>midsize</td>\n",
       "      <td>midsize</td>\n",
       "      <td>midsize</td>\n",
       "      <td>midsize</td>\n",
       "      <td>midsize</td>\n",
       "    </tr>\n",
       "  </tbody>\n",
       "</table>\n",
       "<p>11 rows × 234 columns</p>\n",
       "</div>"
      ],
      "text/plain": [
       "                   1           2           3         4         5    \\\n",
       "manufacturer      audi        audi        audi      audi      audi   \n",
       "model               a4          a4          a4        a4        a4   \n",
       "displ              1.8         1.8         2.0       2.0       2.8   \n",
       "year              1999        1999        2008      2008      1999   \n",
       "cyl                  4           4           4         4         6   \n",
       "trans         auto(l5)  manual(m5)  manual(m6)  auto(av)  auto(l5)   \n",
       "drv                  f           f           f         f         f   \n",
       "cty                 18          21          20        21        16   \n",
       "hwy                 29          29          31        30        26   \n",
       "fl                   p           p           p         p         p   \n",
       "class          compact     compact     compact   compact   compact   \n",
       "\n",
       "                     6         7           8           9           10   ...  \\\n",
       "manufacturer        audi      audi        audi        audi        audi  ...   \n",
       "model                 a4        a4  a4 quattro  a4 quattro  a4 quattro  ...   \n",
       "displ                2.8       3.1         1.8         1.8         2.0  ...   \n",
       "year                1999      2008        1999        1999        2008  ...   \n",
       "cyl                    6         6           4           4           4  ...   \n",
       "trans         manual(m5)  auto(av)  manual(m5)    auto(l5)  manual(m6)  ...   \n",
       "drv                    f         f           4           4           4  ...   \n",
       "cty                   18        18          18          16          20  ...   \n",
       "hwy                   26        27          26          25          28  ...   \n",
       "fl                     p         p           p           p           p  ...   \n",
       "class            compact   compact     compact     compact     compact  ...   \n",
       "\n",
       "                     225         226         227         228         229  \\\n",
       "manufacturer  volkswagen  volkswagen  volkswagen  volkswagen  volkswagen   \n",
       "model         new beetle  new beetle  new beetle      passat      passat   \n",
       "displ                2.0         2.5         2.5         1.8         1.8   \n",
       "year                1999        2008        2008        1999        1999   \n",
       "cyl                    4           5           5           4           4   \n",
       "trans           auto(l4)  manual(m5)    auto(s6)  manual(m5)    auto(l5)   \n",
       "drv                    f           f           f           f           f   \n",
       "cty                   19          20          20          21          18   \n",
       "hwy                   26          28          29          29          29   \n",
       "fl                     r           r           r           p           p   \n",
       "class         subcompact  subcompact  subcompact     midsize     midsize   \n",
       "\n",
       "                     230         231         232         233         234  \n",
       "manufacturer  volkswagen  volkswagen  volkswagen  volkswagen  volkswagen  \n",
       "model             passat      passat      passat      passat      passat  \n",
       "displ                2.0         2.0         2.8         2.8         3.6  \n",
       "year                2008        2008        1999        1999        2008  \n",
       "cyl                    4           4           6           6           6  \n",
       "trans           auto(s6)  manual(m6)    auto(l5)  manual(m5)    auto(s6)  \n",
       "drv                    f           f           f           f           f  \n",
       "cty                   19          21          16          18          17  \n",
       "hwy                   28          29          26          26          26  \n",
       "fl                     p           p           p           p           p  \n",
       "class            midsize     midsize     midsize     midsize     midsize  \n",
       "\n",
       "[11 rows x 234 columns]"
      ]
     },
     "execution_count": 12,
     "metadata": {},
     "output_type": "execute_result"
    }
   ],
   "source": [
    "mpg.T"
   ]
  },
  {
   "cell_type": "code",
   "execution_count": 7,
   "id": "f4f0fee0",
   "metadata": {},
   "outputs": [
    {
     "data": {
      "text/plain": [
       "1      False\n",
       "2      False\n",
       "3      False\n",
       "4      False\n",
       "5      False\n",
       "       ...  \n",
       "230    False\n",
       "231    False\n",
       "232    False\n",
       "233    False\n",
       "234    False\n",
       "Name: year, Length: 234, dtype: bool"
      ]
     },
     "execution_count": 7,
     "metadata": {},
     "output_type": "execute_result"
    }
   ],
   "source": [
    "mpg.year==1998"
   ]
  },
  {
   "cell_type": "code",
   "execution_count": 13,
   "id": "26f6db2e",
   "metadata": {},
   "outputs": [
    {
     "data": {
      "text/html": [
       "<div>\n",
       "<style scoped>\n",
       "    .dataframe tbody tr th:only-of-type {\n",
       "        vertical-align: middle;\n",
       "    }\n",
       "\n",
       "    .dataframe tbody tr th {\n",
       "        vertical-align: top;\n",
       "    }\n",
       "\n",
       "    .dataframe thead th {\n",
       "        text-align: right;\n",
       "    }\n",
       "</style>\n",
       "<table border=\"1\" class=\"dataframe\">\n",
       "  <thead>\n",
       "    <tr style=\"text-align: right;\">\n",
       "      <th></th>\n",
       "      <th>manufacturer</th>\n",
       "      <th>model</th>\n",
       "      <th>displ</th>\n",
       "      <th>year</th>\n",
       "      <th>cyl</th>\n",
       "      <th>trans</th>\n",
       "      <th>drv</th>\n",
       "      <th>cty</th>\n",
       "      <th>hwy</th>\n",
       "      <th>fl</th>\n",
       "      <th>class</th>\n",
       "    </tr>\n",
       "  </thead>\n",
       "  <tbody>\n",
       "  </tbody>\n",
       "</table>\n",
       "</div>"
      ],
      "text/plain": [
       "Empty DataFrame\n",
       "Columns: [manufacturer, model, displ, year, cyl, trans, drv, cty, hwy, fl, class]\n",
       "Index: []"
      ]
     },
     "execution_count": 13,
     "metadata": {},
     "output_type": "execute_result"
    }
   ],
   "source": [
    "mpg[mpg.year==98]"
   ]
  },
  {
   "cell_type": "code",
   "execution_count": 14,
   "id": "6b2532c0",
   "metadata": {},
   "outputs": [],
   "source": [
    "mpg['fuel_eff']= (mpg.cty+mpg.hwy)/2"
   ]
  },
  {
   "cell_type": "code",
   "execution_count": 15,
   "id": "75c9971e",
   "metadata": {},
   "outputs": [
    {
     "data": {
      "text/html": [
       "<div>\n",
       "<style scoped>\n",
       "    .dataframe tbody tr th:only-of-type {\n",
       "        vertical-align: middle;\n",
       "    }\n",
       "\n",
       "    .dataframe tbody tr th {\n",
       "        vertical-align: top;\n",
       "    }\n",
       "\n",
       "    .dataframe thead th {\n",
       "        text-align: right;\n",
       "    }\n",
       "</style>\n",
       "<table border=\"1\" class=\"dataframe\">\n",
       "  <thead>\n",
       "    <tr style=\"text-align: right;\">\n",
       "      <th></th>\n",
       "      <th>manufacturer</th>\n",
       "      <th>model</th>\n",
       "      <th>displ</th>\n",
       "      <th>year</th>\n",
       "      <th>cyl</th>\n",
       "      <th>trans</th>\n",
       "      <th>drv</th>\n",
       "      <th>cty</th>\n",
       "      <th>hwy</th>\n",
       "      <th>fl</th>\n",
       "      <th>class</th>\n",
       "      <th>fuel_eff</th>\n",
       "    </tr>\n",
       "  </thead>\n",
       "  <tbody>\n",
       "    <tr>\n",
       "      <th>1</th>\n",
       "      <td>audi</td>\n",
       "      <td>a4</td>\n",
       "      <td>1.8</td>\n",
       "      <td>1999</td>\n",
       "      <td>4</td>\n",
       "      <td>auto(l5)</td>\n",
       "      <td>f</td>\n",
       "      <td>18</td>\n",
       "      <td>29</td>\n",
       "      <td>p</td>\n",
       "      <td>compact</td>\n",
       "      <td>23.5</td>\n",
       "    </tr>\n",
       "    <tr>\n",
       "      <th>2</th>\n",
       "      <td>audi</td>\n",
       "      <td>a4</td>\n",
       "      <td>1.8</td>\n",
       "      <td>1999</td>\n",
       "      <td>4</td>\n",
       "      <td>manual(m5)</td>\n",
       "      <td>f</td>\n",
       "      <td>21</td>\n",
       "      <td>29</td>\n",
       "      <td>p</td>\n",
       "      <td>compact</td>\n",
       "      <td>25.0</td>\n",
       "    </tr>\n",
       "    <tr>\n",
       "      <th>3</th>\n",
       "      <td>audi</td>\n",
       "      <td>a4</td>\n",
       "      <td>2.0</td>\n",
       "      <td>2008</td>\n",
       "      <td>4</td>\n",
       "      <td>manual(m6)</td>\n",
       "      <td>f</td>\n",
       "      <td>20</td>\n",
       "      <td>31</td>\n",
       "      <td>p</td>\n",
       "      <td>compact</td>\n",
       "      <td>25.5</td>\n",
       "    </tr>\n",
       "    <tr>\n",
       "      <th>4</th>\n",
       "      <td>audi</td>\n",
       "      <td>a4</td>\n",
       "      <td>2.0</td>\n",
       "      <td>2008</td>\n",
       "      <td>4</td>\n",
       "      <td>auto(av)</td>\n",
       "      <td>f</td>\n",
       "      <td>21</td>\n",
       "      <td>30</td>\n",
       "      <td>p</td>\n",
       "      <td>compact</td>\n",
       "      <td>25.5</td>\n",
       "    </tr>\n",
       "    <tr>\n",
       "      <th>5</th>\n",
       "      <td>audi</td>\n",
       "      <td>a4</td>\n",
       "      <td>2.8</td>\n",
       "      <td>1999</td>\n",
       "      <td>6</td>\n",
       "      <td>auto(l5)</td>\n",
       "      <td>f</td>\n",
       "      <td>16</td>\n",
       "      <td>26</td>\n",
       "      <td>p</td>\n",
       "      <td>compact</td>\n",
       "      <td>21.0</td>\n",
       "    </tr>\n",
       "  </tbody>\n",
       "</table>\n",
       "</div>"
      ],
      "text/plain": [
       "  manufacturer model  displ  year  cyl       trans drv  cty  hwy fl    class  \\\n",
       "1         audi    a4    1.8  1999    4    auto(l5)   f   18   29  p  compact   \n",
       "2         audi    a4    1.8  1999    4  manual(m5)   f   21   29  p  compact   \n",
       "3         audi    a4    2.0  2008    4  manual(m6)   f   20   31  p  compact   \n",
       "4         audi    a4    2.0  2008    4    auto(av)   f   21   30  p  compact   \n",
       "5         audi    a4    2.8  1999    6    auto(l5)   f   16   26  p  compact   \n",
       "\n",
       "   fuel_eff  \n",
       "1      23.5  \n",
       "2      25.0  \n",
       "3      25.5  \n",
       "4      25.5  \n",
       "5      21.0  "
      ]
     },
     "execution_count": 15,
     "metadata": {},
     "output_type": "execute_result"
    }
   ],
   "source": [
    "mpg.head()"
   ]
  },
  {
   "cell_type": "code",
   "execution_count": 22,
   "id": "4a9ecd5e",
   "metadata": {},
   "outputs": [
    {
     "data": {
      "text/plain": [
       "3      25.5\n",
       "4      25.5\n",
       "7      22.5\n",
       "10     24.0\n",
       "11     23.0\n",
       "14     21.0\n",
       "15     20.0\n",
       "17     21.0\n",
       "18     19.5\n",
       "19     17.0\n",
       "20     13.0\n",
       "21     17.0\n",
       "23     14.5\n",
       "26     21.0\n",
       "27     20.0\n",
       "28     19.5\n",
       "29     16.5\n",
       "30     12.5\n",
       "34     26.0\n",
       "36     23.5\n",
       "37     21.5\n",
       "42     20.5\n",
       "43     20.5\n",
       "44     14.0\n",
       "47     19.5\n",
       "48     19.5\n",
       "49     17.0\n",
       "50     16.0\n",
       "53     16.5\n",
       "54     16.5\n",
       "55     10.5\n",
       "59     15.0\n",
       "60     10.5\n",
       "61     15.0\n",
       "63     15.5\n",
       "65     14.0\n",
       "66     10.5\n",
       "67     15.0\n",
       "68     15.0\n",
       "69     14.0\n",
       "70     10.5\n",
       "73     15.0\n",
       "77     15.0\n",
       "81     16.0\n",
       "82     16.0\n",
       "88     15.0\n",
       "90     15.0\n",
       "93     21.5\n",
       "94     20.0\n",
       "97     19.0\n",
       "98     18.5\n",
       "99     17.0\n",
       "105    30.0\n",
       "106    30.5\n",
       "107    30.0\n",
       "108    25.0\n",
       "111    25.5\n",
       "112    26.0\n",
       "115    23.5\n",
       "118    24.0\n",
       "119    23.5\n",
       "120    20.5\n",
       "121    20.0\n",
       "122    20.5\n",
       "123    19.5\n",
       "124    17.0\n",
       "127    10.5\n",
       "128    16.5\n",
       "129    15.5\n",
       "130    12.5\n",
       "132    15.0\n",
       "133    15.0\n",
       "137    15.0\n",
       "139    16.0\n",
       "140    16.0\n",
       "144    27.0\n",
       "145    27.5\n",
       "146    23.0\n",
       "147    22.5\n",
       "150    22.0\n",
       "153    17.0\n",
       "154    15.0\n",
       "158    23.0\n",
       "159    20.5\n",
       "162    23.5\n",
       "163    22.0\n",
       "164    23.0\n",
       "165    20.5\n",
       "170    22.5\n",
       "171    23.5\n",
       "172    22.0\n",
       "173    23.5\n",
       "178    18.0\n",
       "179    15.5\n",
       "182    26.0\n",
       "183    26.0\n",
       "186    23.5\n",
       "189    26.0\n",
       "190    26.5\n",
       "193    22.5\n",
       "197    32.5\n",
       "198    30.5\n",
       "200    15.5\n",
       "203    19.5\n",
       "206    16.5\n",
       "207    18.0\n",
       "210    25.0\n",
       "211    25.5\n",
       "216    25.5\n",
       "217    25.0\n",
       "218    25.0\n",
       "219    25.0\n",
       "226    24.0\n",
       "227    24.5\n",
       "230    23.5\n",
       "231    25.0\n",
       "234    21.5\n",
       "Name: fuel_eff, dtype: float64"
      ]
     },
     "execution_count": 22,
     "metadata": {},
     "output_type": "execute_result"
    }
   ],
   "source": [
    "car08= mpg[mpg.year==2008].fuel_eff\n",
    "car08"
   ]
  },
  {
   "cell_type": "code",
   "execution_count": 23,
   "id": "5d68b39b",
   "metadata": {},
   "outputs": [
    {
     "data": {
      "text/plain": [
       "1      23.5\n",
       "2      25.0\n",
       "5      21.0\n",
       "6      22.0\n",
       "8      22.0\n",
       "9      20.5\n",
       "12     20.0\n",
       "13     21.0\n",
       "16     19.5\n",
       "22     15.0\n",
       "24     21.0\n",
       "25     19.0\n",
       "31     13.0\n",
       "32     15.5\n",
       "33     23.0\n",
       "35     22.0\n",
       "38     21.0\n",
       "39     20.5\n",
       "40     19.0\n",
       "41     19.0\n",
       "45     18.5\n",
       "46     18.0\n",
       "51     15.0\n",
       "52     15.5\n",
       "56     14.0\n",
       "57     13.0\n",
       "58     15.0\n",
       "62     13.5\n",
       "64     13.0\n",
       "71     13.0\n",
       "72     13.5\n",
       "74     13.0\n",
       "75     14.0\n",
       "76     14.0\n",
       "78     15.5\n",
       "79     17.0\n",
       "80     15.5\n",
       "83     15.0\n",
       "84     15.5\n",
       "85     15.5\n",
       "86     14.5\n",
       "87     14.5\n",
       "89     13.0\n",
       "91     22.0\n",
       "92     21.5\n",
       "95     18.0\n",
       "96     18.5\n",
       "100    30.5\n",
       "101    28.0\n",
       "102    28.5\n",
       "103    26.0\n",
       "104    28.0\n",
       "109    22.0\n",
       "110    22.5\n",
       "113    22.0\n",
       "114    22.0\n",
       "116    22.5\n",
       "117    24.0\n",
       "125    17.5\n",
       "126    15.5\n",
       "131    13.0\n",
       "134    13.0\n",
       "135    14.0\n",
       "136    13.5\n",
       "138    15.5\n",
       "141    15.0\n",
       "142    25.0\n",
       "143    23.0\n",
       "148    22.0\n",
       "149    22.0\n",
       "151    15.5\n",
       "152    16.0\n",
       "155    22.0\n",
       "156    21.0\n",
       "157    22.0\n",
       "160    21.5\n",
       "161    21.0\n",
       "166    23.5\n",
       "167    22.5\n",
       "168    22.5\n",
       "169    22.5\n",
       "174    17.5\n",
       "175    18.0\n",
       "176    17.0\n",
       "177    16.0\n",
       "180    25.0\n",
       "181    24.0\n",
       "184    22.0\n",
       "185    22.0\n",
       "187    24.0\n",
       "188    25.0\n",
       "191    22.0\n",
       "192    22.0\n",
       "194    27.0\n",
       "195    28.5\n",
       "196    30.5\n",
       "199    13.0\n",
       "201    17.5\n",
       "202    18.0\n",
       "204    16.0\n",
       "205    17.0\n",
       "208    25.0\n",
       "209    22.5\n",
       "212    20.5\n",
       "213    38.5\n",
       "214    25.0\n",
       "215    22.5\n",
       "220    19.5\n",
       "221    20.5\n",
       "222    39.5\n",
       "223    35.0\n",
       "224    25.0\n",
       "225    22.5\n",
       "228    25.0\n",
       "229    23.5\n",
       "232    21.0\n",
       "233    22.0\n",
       "Name: fuel_eff, dtype: float64"
      ]
     },
     "execution_count": 23,
     "metadata": {},
     "output_type": "execute_result"
    }
   ],
   "source": [
    "car99= mpg[mpg.year==1999].fuel_eff\n",
    "car99"
   ]
  },
  {
   "cell_type": "markdown",
   "id": "31c04097",
   "metadata": {},
   "source": [
    "## A Plot Histogram "
   ]
  },
  {
   "cell_type": "code",
   "execution_count": 24,
   "id": "6c1e04e0",
   "metadata": {},
   "outputs": [
    {
     "data": {
      "text/plain": [
       "<AxesSubplot:>"
      ]
     },
     "execution_count": 24,
     "metadata": {},
     "output_type": "execute_result"
    },
    {
     "data": {
      "image/png": "[encoded data removed]",
      "text/plain": [
       "<Figure size 432x288 with 1 Axes>"
      ]
     },
     "metadata": {
      "needs_background": "light"
     },
     "output_type": "display_data"
    }
   ],
   "source": [
    "car08.hist()"
   ]
  },
  {
   "cell_type": "code",
   "execution_count": 25,
   "id": "f5e43e36",
   "metadata": {},
   "outputs": [
    {
     "data": {
      "text/plain": [
       "<AxesSubplot:>"
      ]
     },
     "execution_count": 25,
     "metadata": {},
     "output_type": "execute_result"
    },
    {
     "data": {
      "image/png": "[encoded data removed]",
      "text/plain": [
       "<Figure size 432x288 with 1 Axes>"
      ]
     },
     "metadata": {
      "needs_background": "light"
     },
     "output_type": "display_data"
    }
   ],
   "source": [
    "car99.hist()"
   ]
  },
  {
   "cell_type": "markdown",
   "id": "29f4932e",
   "metadata": {},
   "source": [
    "## B. Set Hypothesis"
   ]
  },
  {
   "cell_type": "markdown",
   "id": "3705507b",
   "metadata": {},
   "source": [
    "\n",
    " question \n",
    " \n",
    "- Is there a difference in fuel-efficiency in cars from 2008 vs 1999?\n",
    "- Are compact cars more fuel-efficient than the average car?\n",
    "- Do manual cars get better gas mileage than automatic cars?"
   ]
  },
  {
   "cell_type": "code",
   "execution_count": 26,
   "id": "bb6f5c92",
   "metadata": {},
   "outputs": [
    {
     "data": {
      "text/plain": [
       "20.076923076923077"
      ]
     },
     "execution_count": 26,
     "metadata": {},
     "output_type": "execute_result"
    }
   ],
   "source": [
    "car08.mean()"
   ]
  },
  {
   "cell_type": "code",
   "execution_count": 27,
   "id": "071267f8",
   "metadata": {},
   "outputs": [
    {
     "data": {
      "text/plain": [
       "20.22222222222222"
      ]
     },
     "execution_count": 27,
     "metadata": {},
     "output_type": "execute_result"
    }
   ],
   "source": [
    "car99.mean()"
   ]
  },
  {
   "cell_type": "markdown",
   "id": "84875a96",
   "metadata": {},
   "source": [
    "# Hypothesis \n",
    "𝐻0\n",
    " : fuel efficency is equal on both years.\n",
    "\n",
    "Ha\n",
    " : fuel efficency is not equal on both year "
   ]
  },
  {
   "cell_type": "code",
   "execution_count": 34,
   "id": "e0004492",
   "metadata": {},
   "outputs": [
    {
     "data": {
      "text/plain": [
       "Series([], Name: fuel_eff, dtype: float64)"
      ]
     },
     "execution_count": 34,
     "metadata": {},
     "output_type": "execute_result"
    }
   ],
   "source": [
    "all_car = mpg[mpg.year==19].fuel_eff\n",
    "all_car"
   ]
  },
  {
   "cell_type": "markdown",
   "id": "25eba080",
   "metadata": {},
   "source": [
    "# Verify Assumptions "
   ]
  },
  {
   "cell_type": "code",
   "execution_count": null,
   "id": "f48f0b8b",
   "metadata": {},
   "outputs": [],
   "source": []
  },
  {
   "cell_type": "code",
   "execution_count": 41,
   "id": "92efe37d",
   "metadata": {},
   "outputs": [
    {
     "data": {
      "text/plain": [
       "24.097480106100797"
      ]
     },
     "execution_count": 41,
     "metadata": {},
     "output_type": "execute_result"
    }
   ],
   "source": [
    "car08.var()"
   ]
  },
  {
   "cell_type": "code",
   "execution_count": 42,
   "id": "ac9e6c96",
   "metadata": {},
   "outputs": [
    {
     "data": {
      "text/plain": [
       "27.122605363984682"
      ]
     },
     "execution_count": 42,
     "metadata": {},
     "output_type": "execute_result"
    }
   ],
   "source": [
    "car99.var()"
   ]
  },
  {
   "cell_type": "code",
   "execution_count": 109,
   "id": "2e8f01b0",
   "metadata": {},
   "outputs": [
    {
     "data": {
      "text/plain": [
       "LeveneResult(statistic=0.033228136671080453, pvalue=0.855517569468803)"
      ]
     },
     "execution_count": 109,
     "metadata": {},
     "output_type": "execute_result"
    }
   ],
   "source": [
    "stats.levene(car08, car99)"
   ]
  },
  {
   "cell_type": "markdown",
   "id": "fd58a075",
   "metadata": {},
   "source": [
    "# Compute test statistic and probability (t-statistic & p-value)"
   ]
  },
  {
   "cell_type": "code",
   "execution_count": 46,
   "id": "5ace8c3e",
   "metadata": {},
   "outputs": [
    {
     "data": {
      "text/plain": [
       "(-0.21960177245940962, 0.8263750772060638, 0.05)"
      ]
     },
     "execution_count": 46,
     "metadata": {},
     "output_type": "execute_result"
    }
   ],
   "source": [
    "t, p = stats.ttest_ind(car08, car99, equal_var=False )\n",
    "t,p, alpha"
   ]
  },
  {
   "cell_type": "markdown",
   "id": "486f7abd",
   "metadata": {},
   "source": [
    "# Decide"
   ]
  },
  {
   "cell_type": "code",
   "execution_count": 53,
   "id": "616b68ae",
   "metadata": {},
   "outputs": [
    {
     "name": "stdout",
     "output_type": "stream",
     "text": [
      "Is t < 0?  True\n",
      "is p < alpha?  False\n"
     ]
    }
   ],
   "source": [
    "print(\"Is t < 0? \", t<0)\n",
    "\n",
    "print(\"is p < alpha? \", p<alpha)"
   ]
  },
  {
   "cell_type": "code",
   "execution_count": 90,
   "id": "b7830dc6",
   "metadata": {},
   "outputs": [
    {
     "name": "stdout",
     "output_type": "stream",
     "text": [
      "We fail to reject the null hypothesis\n"
     ]
    }
   ],
   "source": [
    "if (p < alpha) & (t < 0):\n",
    "    print(\"We reject the null hypothesis\")\n",
    "else:\n",
    "    print(\"We fail to reject the null hypothesis\")"
   ]
  },
  {
   "cell_type": "markdown",
   "id": "92067b56",
   "metadata": {},
   "source": [
    "# Are compact cars more fuel-efficient than the average car?"
   ]
  },
  {
   "cell_type": "code",
   "execution_count": 70,
   "id": "fcc362be",
   "metadata": {},
   "outputs": [
    {
     "data": {
      "text/html": [
       "<div>\n",
       "<style scoped>\n",
       "    .dataframe tbody tr th:only-of-type {\n",
       "        vertical-align: middle;\n",
       "    }\n",
       "\n",
       "    .dataframe tbody tr th {\n",
       "        vertical-align: top;\n",
       "    }\n",
       "\n",
       "    .dataframe thead th {\n",
       "        text-align: right;\n",
       "    }\n",
       "</style>\n",
       "<table border=\"1\" class=\"dataframe\">\n",
       "  <thead>\n",
       "    <tr style=\"text-align: right;\">\n",
       "      <th></th>\n",
       "      <th>manufacturer</th>\n",
       "      <th>model</th>\n",
       "      <th>displ</th>\n",
       "      <th>year</th>\n",
       "      <th>cyl</th>\n",
       "      <th>trans</th>\n",
       "      <th>drv</th>\n",
       "      <th>cty</th>\n",
       "      <th>hwy</th>\n",
       "      <th>fl</th>\n",
       "      <th>class</th>\n",
       "      <th>fuel_eff</th>\n",
       "    </tr>\n",
       "  </thead>\n",
       "  <tbody>\n",
       "    <tr>\n",
       "      <th>1</th>\n",
       "      <td>audi</td>\n",
       "      <td>a4</td>\n",
       "      <td>1.8</td>\n",
       "      <td>1999</td>\n",
       "      <td>4</td>\n",
       "      <td>auto(l5)</td>\n",
       "      <td>f</td>\n",
       "      <td>18</td>\n",
       "      <td>29</td>\n",
       "      <td>p</td>\n",
       "      <td>compact</td>\n",
       "      <td>23.5</td>\n",
       "    </tr>\n",
       "    <tr>\n",
       "      <th>2</th>\n",
       "      <td>audi</td>\n",
       "      <td>a4</td>\n",
       "      <td>1.8</td>\n",
       "      <td>1999</td>\n",
       "      <td>4</td>\n",
       "      <td>manual(m5)</td>\n",
       "      <td>f</td>\n",
       "      <td>21</td>\n",
       "      <td>29</td>\n",
       "      <td>p</td>\n",
       "      <td>compact</td>\n",
       "      <td>25.0</td>\n",
       "    </tr>\n",
       "    <tr>\n",
       "      <th>3</th>\n",
       "      <td>audi</td>\n",
       "      <td>a4</td>\n",
       "      <td>2.0</td>\n",
       "      <td>2008</td>\n",
       "      <td>4</td>\n",
       "      <td>manual(m6)</td>\n",
       "      <td>f</td>\n",
       "      <td>20</td>\n",
       "      <td>31</td>\n",
       "      <td>p</td>\n",
       "      <td>compact</td>\n",
       "      <td>25.5</td>\n",
       "    </tr>\n",
       "    <tr>\n",
       "      <th>4</th>\n",
       "      <td>audi</td>\n",
       "      <td>a4</td>\n",
       "      <td>2.0</td>\n",
       "      <td>2008</td>\n",
       "      <td>4</td>\n",
       "      <td>auto(av)</td>\n",
       "      <td>f</td>\n",
       "      <td>21</td>\n",
       "      <td>30</td>\n",
       "      <td>p</td>\n",
       "      <td>compact</td>\n",
       "      <td>25.5</td>\n",
       "    </tr>\n",
       "    <tr>\n",
       "      <th>5</th>\n",
       "      <td>audi</td>\n",
       "      <td>a4</td>\n",
       "      <td>2.8</td>\n",
       "      <td>1999</td>\n",
       "      <td>6</td>\n",
       "      <td>auto(l5)</td>\n",
       "      <td>f</td>\n",
       "      <td>16</td>\n",
       "      <td>26</td>\n",
       "      <td>p</td>\n",
       "      <td>compact</td>\n",
       "      <td>21.0</td>\n",
       "    </tr>\n",
       "    <tr>\n",
       "      <th>6</th>\n",
       "      <td>audi</td>\n",
       "      <td>a4</td>\n",
       "      <td>2.8</td>\n",
       "      <td>1999</td>\n",
       "      <td>6</td>\n",
       "      <td>manual(m5)</td>\n",
       "      <td>f</td>\n",
       "      <td>18</td>\n",
       "      <td>26</td>\n",
       "      <td>p</td>\n",
       "      <td>compact</td>\n",
       "      <td>22.0</td>\n",
       "    </tr>\n",
       "    <tr>\n",
       "      <th>7</th>\n",
       "      <td>audi</td>\n",
       "      <td>a4</td>\n",
       "      <td>3.1</td>\n",
       "      <td>2008</td>\n",
       "      <td>6</td>\n",
       "      <td>auto(av)</td>\n",
       "      <td>f</td>\n",
       "      <td>18</td>\n",
       "      <td>27</td>\n",
       "      <td>p</td>\n",
       "      <td>compact</td>\n",
       "      <td>22.5</td>\n",
       "    </tr>\n",
       "    <tr>\n",
       "      <th>8</th>\n",
       "      <td>audi</td>\n",
       "      <td>a4 quattro</td>\n",
       "      <td>1.8</td>\n",
       "      <td>1999</td>\n",
       "      <td>4</td>\n",
       "      <td>manual(m5)</td>\n",
       "      <td>4</td>\n",
       "      <td>18</td>\n",
       "      <td>26</td>\n",
       "      <td>p</td>\n",
       "      <td>compact</td>\n",
       "      <td>22.0</td>\n",
       "    </tr>\n",
       "    <tr>\n",
       "      <th>9</th>\n",
       "      <td>audi</td>\n",
       "      <td>a4 quattro</td>\n",
       "      <td>1.8</td>\n",
       "      <td>1999</td>\n",
       "      <td>4</td>\n",
       "      <td>auto(l5)</td>\n",
       "      <td>4</td>\n",
       "      <td>16</td>\n",
       "      <td>25</td>\n",
       "      <td>p</td>\n",
       "      <td>compact</td>\n",
       "      <td>20.5</td>\n",
       "    </tr>\n",
       "    <tr>\n",
       "      <th>10</th>\n",
       "      <td>audi</td>\n",
       "      <td>a4 quattro</td>\n",
       "      <td>2.0</td>\n",
       "      <td>2008</td>\n",
       "      <td>4</td>\n",
       "      <td>manual(m6)</td>\n",
       "      <td>4</td>\n",
       "      <td>20</td>\n",
       "      <td>28</td>\n",
       "      <td>p</td>\n",
       "      <td>compact</td>\n",
       "      <td>24.0</td>\n",
       "    </tr>\n",
       "    <tr>\n",
       "      <th>11</th>\n",
       "      <td>audi</td>\n",
       "      <td>a4 quattro</td>\n",
       "      <td>2.0</td>\n",
       "      <td>2008</td>\n",
       "      <td>4</td>\n",
       "      <td>auto(s6)</td>\n",
       "      <td>4</td>\n",
       "      <td>19</td>\n",
       "      <td>27</td>\n",
       "      <td>p</td>\n",
       "      <td>compact</td>\n",
       "      <td>23.0</td>\n",
       "    </tr>\n",
       "    <tr>\n",
       "      <th>12</th>\n",
       "      <td>audi</td>\n",
       "      <td>a4 quattro</td>\n",
       "      <td>2.8</td>\n",
       "      <td>1999</td>\n",
       "      <td>6</td>\n",
       "      <td>auto(l5)</td>\n",
       "      <td>4</td>\n",
       "      <td>15</td>\n",
       "      <td>25</td>\n",
       "      <td>p</td>\n",
       "      <td>compact</td>\n",
       "      <td>20.0</td>\n",
       "    </tr>\n",
       "    <tr>\n",
       "      <th>13</th>\n",
       "      <td>audi</td>\n",
       "      <td>a4 quattro</td>\n",
       "      <td>2.8</td>\n",
       "      <td>1999</td>\n",
       "      <td>6</td>\n",
       "      <td>manual(m5)</td>\n",
       "      <td>4</td>\n",
       "      <td>17</td>\n",
       "      <td>25</td>\n",
       "      <td>p</td>\n",
       "      <td>compact</td>\n",
       "      <td>21.0</td>\n",
       "    </tr>\n",
       "    <tr>\n",
       "      <th>14</th>\n",
       "      <td>audi</td>\n",
       "      <td>a4 quattro</td>\n",
       "      <td>3.1</td>\n",
       "      <td>2008</td>\n",
       "      <td>6</td>\n",
       "      <td>auto(s6)</td>\n",
       "      <td>4</td>\n",
       "      <td>17</td>\n",
       "      <td>25</td>\n",
       "      <td>p</td>\n",
       "      <td>compact</td>\n",
       "      <td>21.0</td>\n",
       "    </tr>\n",
       "    <tr>\n",
       "      <th>15</th>\n",
       "      <td>audi</td>\n",
       "      <td>a4 quattro</td>\n",
       "      <td>3.1</td>\n",
       "      <td>2008</td>\n",
       "      <td>6</td>\n",
       "      <td>manual(m6)</td>\n",
       "      <td>4</td>\n",
       "      <td>15</td>\n",
       "      <td>25</td>\n",
       "      <td>p</td>\n",
       "      <td>compact</td>\n",
       "      <td>20.0</td>\n",
       "    </tr>\n",
       "    <tr>\n",
       "      <th>16</th>\n",
       "      <td>audi</td>\n",
       "      <td>a6 quattro</td>\n",
       "      <td>2.8</td>\n",
       "      <td>1999</td>\n",
       "      <td>6</td>\n",
       "      <td>auto(l5)</td>\n",
       "      <td>4</td>\n",
       "      <td>15</td>\n",
       "      <td>24</td>\n",
       "      <td>p</td>\n",
       "      <td>midsize</td>\n",
       "      <td>19.5</td>\n",
       "    </tr>\n",
       "    <tr>\n",
       "      <th>17</th>\n",
       "      <td>audi</td>\n",
       "      <td>a6 quattro</td>\n",
       "      <td>3.1</td>\n",
       "      <td>2008</td>\n",
       "      <td>6</td>\n",
       "      <td>auto(s6)</td>\n",
       "      <td>4</td>\n",
       "      <td>17</td>\n",
       "      <td>25</td>\n",
       "      <td>p</td>\n",
       "      <td>midsize</td>\n",
       "      <td>21.0</td>\n",
       "    </tr>\n",
       "    <tr>\n",
       "      <th>18</th>\n",
       "      <td>audi</td>\n",
       "      <td>a6 quattro</td>\n",
       "      <td>4.2</td>\n",
       "      <td>2008</td>\n",
       "      <td>8</td>\n",
       "      <td>auto(s6)</td>\n",
       "      <td>4</td>\n",
       "      <td>16</td>\n",
       "      <td>23</td>\n",
       "      <td>p</td>\n",
       "      <td>midsize</td>\n",
       "      <td>19.5</td>\n",
       "    </tr>\n",
       "    <tr>\n",
       "      <th>19</th>\n",
       "      <td>chevrolet</td>\n",
       "      <td>c1500 suburban 2wd</td>\n",
       "      <td>5.3</td>\n",
       "      <td>2008</td>\n",
       "      <td>8</td>\n",
       "      <td>auto(l4)</td>\n",
       "      <td>r</td>\n",
       "      <td>14</td>\n",
       "      <td>20</td>\n",
       "      <td>r</td>\n",
       "      <td>suv</td>\n",
       "      <td>17.0</td>\n",
       "    </tr>\n",
       "    <tr>\n",
       "      <th>20</th>\n",
       "      <td>chevrolet</td>\n",
       "      <td>c1500 suburban 2wd</td>\n",
       "      <td>5.3</td>\n",
       "      <td>2008</td>\n",
       "      <td>8</td>\n",
       "      <td>auto(l4)</td>\n",
       "      <td>r</td>\n",
       "      <td>11</td>\n",
       "      <td>15</td>\n",
       "      <td>e</td>\n",
       "      <td>suv</td>\n",
       "      <td>13.0</td>\n",
       "    </tr>\n",
       "    <tr>\n",
       "      <th>21</th>\n",
       "      <td>chevrolet</td>\n",
       "      <td>c1500 suburban 2wd</td>\n",
       "      <td>5.3</td>\n",
       "      <td>2008</td>\n",
       "      <td>8</td>\n",
       "      <td>auto(l4)</td>\n",
       "      <td>r</td>\n",
       "      <td>14</td>\n",
       "      <td>20</td>\n",
       "      <td>r</td>\n",
       "      <td>suv</td>\n",
       "      <td>17.0</td>\n",
       "    </tr>\n",
       "    <tr>\n",
       "      <th>22</th>\n",
       "      <td>chevrolet</td>\n",
       "      <td>c1500 suburban 2wd</td>\n",
       "      <td>5.7</td>\n",
       "      <td>1999</td>\n",
       "      <td>8</td>\n",
       "      <td>auto(l4)</td>\n",
       "      <td>r</td>\n",
       "      <td>13</td>\n",
       "      <td>17</td>\n",
       "      <td>r</td>\n",
       "      <td>suv</td>\n",
       "      <td>15.0</td>\n",
       "    </tr>\n",
       "    <tr>\n",
       "      <th>23</th>\n",
       "      <td>chevrolet</td>\n",
       "      <td>c1500 suburban 2wd</td>\n",
       "      <td>6.0</td>\n",
       "      <td>2008</td>\n",
       "      <td>8</td>\n",
       "      <td>auto(l4)</td>\n",
       "      <td>r</td>\n",
       "      <td>12</td>\n",
       "      <td>17</td>\n",
       "      <td>r</td>\n",
       "      <td>suv</td>\n",
       "      <td>14.5</td>\n",
       "    </tr>\n",
       "    <tr>\n",
       "      <th>24</th>\n",
       "      <td>chevrolet</td>\n",
       "      <td>corvette</td>\n",
       "      <td>5.7</td>\n",
       "      <td>1999</td>\n",
       "      <td>8</td>\n",
       "      <td>manual(m6)</td>\n",
       "      <td>r</td>\n",
       "      <td>16</td>\n",
       "      <td>26</td>\n",
       "      <td>p</td>\n",
       "      <td>2seater</td>\n",
       "      <td>21.0</td>\n",
       "    </tr>\n",
       "    <tr>\n",
       "      <th>25</th>\n",
       "      <td>chevrolet</td>\n",
       "      <td>corvette</td>\n",
       "      <td>5.7</td>\n",
       "      <td>1999</td>\n",
       "      <td>8</td>\n",
       "      <td>auto(l4)</td>\n",
       "      <td>r</td>\n",
       "      <td>15</td>\n",
       "      <td>23</td>\n",
       "      <td>p</td>\n",
       "      <td>2seater</td>\n",
       "      <td>19.0</td>\n",
       "    </tr>\n",
       "    <tr>\n",
       "      <th>26</th>\n",
       "      <td>chevrolet</td>\n",
       "      <td>corvette</td>\n",
       "      <td>6.2</td>\n",
       "      <td>2008</td>\n",
       "      <td>8</td>\n",
       "      <td>manual(m6)</td>\n",
       "      <td>r</td>\n",
       "      <td>16</td>\n",
       "      <td>26</td>\n",
       "      <td>p</td>\n",
       "      <td>2seater</td>\n",
       "      <td>21.0</td>\n",
       "    </tr>\n",
       "    <tr>\n",
       "      <th>27</th>\n",
       "      <td>chevrolet</td>\n",
       "      <td>corvette</td>\n",
       "      <td>6.2</td>\n",
       "      <td>2008</td>\n",
       "      <td>8</td>\n",
       "      <td>auto(s6)</td>\n",
       "      <td>r</td>\n",
       "      <td>15</td>\n",
       "      <td>25</td>\n",
       "      <td>p</td>\n",
       "      <td>2seater</td>\n",
       "      <td>20.0</td>\n",
       "    </tr>\n",
       "    <tr>\n",
       "      <th>28</th>\n",
       "      <td>chevrolet</td>\n",
       "      <td>corvette</td>\n",
       "      <td>7.0</td>\n",
       "      <td>2008</td>\n",
       "      <td>8</td>\n",
       "      <td>manual(m6)</td>\n",
       "      <td>r</td>\n",
       "      <td>15</td>\n",
       "      <td>24</td>\n",
       "      <td>p</td>\n",
       "      <td>2seater</td>\n",
       "      <td>19.5</td>\n",
       "    </tr>\n",
       "    <tr>\n",
       "      <th>29</th>\n",
       "      <td>chevrolet</td>\n",
       "      <td>k1500 tahoe 4wd</td>\n",
       "      <td>5.3</td>\n",
       "      <td>2008</td>\n",
       "      <td>8</td>\n",
       "      <td>auto(l4)</td>\n",
       "      <td>4</td>\n",
       "      <td>14</td>\n",
       "      <td>19</td>\n",
       "      <td>r</td>\n",
       "      <td>suv</td>\n",
       "      <td>16.5</td>\n",
       "    </tr>\n",
       "    <tr>\n",
       "      <th>30</th>\n",
       "      <td>chevrolet</td>\n",
       "      <td>k1500 tahoe 4wd</td>\n",
       "      <td>5.3</td>\n",
       "      <td>2008</td>\n",
       "      <td>8</td>\n",
       "      <td>auto(l4)</td>\n",
       "      <td>4</td>\n",
       "      <td>11</td>\n",
       "      <td>14</td>\n",
       "      <td>e</td>\n",
       "      <td>suv</td>\n",
       "      <td>12.5</td>\n",
       "    </tr>\n",
       "  </tbody>\n",
       "</table>\n",
       "</div>"
      ],
      "text/plain": [
       "   manufacturer               model  displ  year  cyl       trans drv  cty  \\\n",
       "1          audi                  a4    1.8  1999    4    auto(l5)   f   18   \n",
       "2          audi                  a4    1.8  1999    4  manual(m5)   f   21   \n",
       "3          audi                  a4    2.0  2008    4  manual(m6)   f   20   \n",
       "4          audi                  a4    2.0  2008    4    auto(av)   f   21   \n",
       "5          audi                  a4    2.8  1999    6    auto(l5)   f   16   \n",
       "6          audi                  a4    2.8  1999    6  manual(m5)   f   18   \n",
       "7          audi                  a4    3.1  2008    6    auto(av)   f   18   \n",
       "8          audi          a4 quattro    1.8  1999    4  manual(m5)   4   18   \n",
       "9          audi          a4 quattro    1.8  1999    4    auto(l5)   4   16   \n",
       "10         audi          a4 quattro    2.0  2008    4  manual(m6)   4   20   \n",
       "11         audi          a4 quattro    2.0  2008    4    auto(s6)   4   19   \n",
       "12         audi          a4 quattro    2.8  1999    6    auto(l5)   4   15   \n",
       "13         audi          a4 quattro    2.8  1999    6  manual(m5)   4   17   \n",
       "14         audi          a4 quattro    3.1  2008    6    auto(s6)   4   17   \n",
       "15         audi          a4 quattro    3.1  2008    6  manual(m6)   4   15   \n",
       "16         audi          a6 quattro    2.8  1999    6    auto(l5)   4   15   \n",
       "17         audi          a6 quattro    3.1  2008    6    auto(s6)   4   17   \n",
       "18         audi          a6 quattro    4.2  2008    8    auto(s6)   4   16   \n",
       "19    chevrolet  c1500 suburban 2wd    5.3  2008    8    auto(l4)   r   14   \n",
       "20    chevrolet  c1500 suburban 2wd    5.3  2008    8    auto(l4)   r   11   \n",
       "21    chevrolet  c1500 suburban 2wd    5.3  2008    8    auto(l4)   r   14   \n",
       "22    chevrolet  c1500 suburban 2wd    5.7  1999    8    auto(l4)   r   13   \n",
       "23    chevrolet  c1500 suburban 2wd    6.0  2008    8    auto(l4)   r   12   \n",
       "24    chevrolet            corvette    5.7  1999    8  manual(m6)   r   16   \n",
       "25    chevrolet            corvette    5.7  1999    8    auto(l4)   r   15   \n",
       "26    chevrolet            corvette    6.2  2008    8  manual(m6)   r   16   \n",
       "27    chevrolet            corvette    6.2  2008    8    auto(s6)   r   15   \n",
       "28    chevrolet            corvette    7.0  2008    8  manual(m6)   r   15   \n",
       "29    chevrolet     k1500 tahoe 4wd    5.3  2008    8    auto(l4)   4   14   \n",
       "30    chevrolet     k1500 tahoe 4wd    5.3  2008    8    auto(l4)   4   11   \n",
       "\n",
       "    hwy fl    class  fuel_eff  \n",
       "1    29  p  compact      23.5  \n",
       "2    29  p  compact      25.0  \n",
       "3    31  p  compact      25.5  \n",
       "4    30  p  compact      25.5  \n",
       "5    26  p  compact      21.0  \n",
       "6    26  p  compact      22.0  \n",
       "7    27  p  compact      22.5  \n",
       "8    26  p  compact      22.0  \n",
       "9    25  p  compact      20.5  \n",
       "10   28  p  compact      24.0  \n",
       "11   27  p  compact      23.0  \n",
       "12   25  p  compact      20.0  \n",
       "13   25  p  compact      21.0  \n",
       "14   25  p  compact      21.0  \n",
       "15   25  p  compact      20.0  \n",
       "16   24  p  midsize      19.5  \n",
       "17   25  p  midsize      21.0  \n",
       "18   23  p  midsize      19.5  \n",
       "19   20  r      suv      17.0  \n",
       "20   15  e      suv      13.0  \n",
       "21   20  r      suv      17.0  \n",
       "22   17  r      suv      15.0  \n",
       "23   17  r      suv      14.5  \n",
       "24   26  p  2seater      21.0  \n",
       "25   23  p  2seater      19.0  \n",
       "26   26  p  2seater      21.0  \n",
       "27   25  p  2seater      20.0  \n",
       "28   24  p  2seater      19.5  \n",
       "29   19  r      suv      16.5  \n",
       "30   14  e      suv      12.5  "
      ]
     },
     "execution_count": 70,
     "metadata": {},
     "output_type": "execute_result"
    }
   ],
   "source": [
    "mpg.head(30)"
   ]
  },
  {
   "cell_type": "code",
   "execution_count": 51,
   "id": "96d4609f",
   "metadata": {},
   "outputs": [],
   "source": [
    "compact = mpg[mpg['class'] == 'compact'].fuel_eff\n",
    "non_compact = mpg[mpg['class'] != 'compact'].fuel_eff"
   ]
  },
  {
   "cell_type": "markdown",
   "id": "8c388471",
   "metadata": {},
   "source": [
    "# Plot Chart "
   ]
  },
  {
   "cell_type": "code",
   "execution_count": 65,
   "id": "773e1208",
   "metadata": {},
   "outputs": [
    {
     "data": {
      "text/plain": [
       "<AxesSubplot:>"
      ]
     },
     "execution_count": 65,
     "metadata": {},
     "output_type": "execute_result"
    },
    {
     "data": {
      "image/png": "[encoded data removed]",
      "text/plain": [
       "<Figure size 432x288 with 1 Axes>"
      ]
     },
     "metadata": {
      "needs_background": "light"
     },
     "output_type": "display_data"
    }
   ],
   "source": [
    "compact.hist()"
   ]
  },
  {
   "cell_type": "code",
   "execution_count": 66,
   "id": "e317ca6b",
   "metadata": {},
   "outputs": [
    {
     "data": {
      "text/plain": [
       "<AxesSubplot:>"
      ]
     },
     "execution_count": 66,
     "metadata": {},
     "output_type": "execute_result"
    },
    {
     "data": {
      "image/png": "[encoded data removed]",
      "text/plain": [
       "<Figure size 432x288 with 1 Axes>"
      ]
     },
     "metadata": {
      "needs_background": "light"
     },
     "output_type": "display_data"
    }
   ],
   "source": [
    "non_compact.hist()"
   ]
  },
  {
   "cell_type": "code",
   "execution_count": 49,
   "id": "d5b2ff4e",
   "metadata": {},
   "outputs": [
    {
     "data": {
      "text/plain": [
       "1      23.5\n",
       "2      25.0\n",
       "3      25.5\n",
       "4      25.5\n",
       "5      21.0\n",
       "6      22.0\n",
       "7      22.5\n",
       "8      22.0\n",
       "9      20.5\n",
       "10     24.0\n",
       "11     23.0\n",
       "12     20.0\n",
       "13     21.0\n",
       "14     21.0\n",
       "15     20.0\n",
       "142    25.0\n",
       "143    23.0\n",
       "170    22.5\n",
       "171    23.5\n",
       "172    22.0\n",
       "173    23.5\n",
       "187    24.0\n",
       "188    25.0\n",
       "189    26.0\n",
       "190    26.5\n",
       "191    22.0\n",
       "192    22.0\n",
       "193    22.5\n",
       "194    27.0\n",
       "195    28.5\n",
       "196    30.5\n",
       "197    32.5\n",
       "198    30.5\n",
       "208    25.0\n",
       "209    22.5\n",
       "210    25.0\n",
       "211    25.5\n",
       "212    20.5\n",
       "213    38.5\n",
       "214    25.0\n",
       "215    22.5\n",
       "216    25.5\n",
       "217    25.0\n",
       "218    25.0\n",
       "219    25.0\n",
       "220    19.5\n",
       "221    20.5\n",
       "Name: fuel_eff, dtype: float64"
      ]
     },
     "execution_count": 49,
     "metadata": {},
     "output_type": "execute_result"
    }
   ],
   "source": [
    "compact"
   ]
  },
  {
   "cell_type": "code",
   "execution_count": 52,
   "id": "a8ad10c9",
   "metadata": {},
   "outputs": [
    {
     "data": {
      "text/plain": [
       "16     19.5\n",
       "17     21.0\n",
       "18     19.5\n",
       "19     17.0\n",
       "20     13.0\n",
       "       ... \n",
       "230    23.5\n",
       "231    25.0\n",
       "232    21.0\n",
       "233    22.0\n",
       "234    21.5\n",
       "Name: fuel_eff, Length: 187, dtype: float64"
      ]
     },
     "execution_count": 52,
     "metadata": {},
     "output_type": "execute_result"
    }
   ],
   "source": [
    "non_compact"
   ]
  },
  {
   "cell_type": "markdown",
   "id": "958b788d",
   "metadata": {},
   "source": [
    "# Hypothesis \n",
    "H 0: \n",
    "    fuel efficency of compact car and non compact car is equal \n",
    "    \n",
    "H1: \n",
    "compact cars more fuel-efficient than the average car"
   ]
  },
  {
   "cell_type": "markdown",
   "id": "51e741d4",
   "metadata": {},
   "source": [
    "# Verify Assumptions"
   ]
  },
  {
   "cell_type": "code",
   "execution_count": 59,
   "id": "3cb16124",
   "metadata": {},
   "outputs": [
    {
     "data": {
      "text/plain": [
       "(23.652794548904602, 12.442876965772433)"
      ]
     },
     "execution_count": 59,
     "metadata": {},
     "output_type": "execute_result"
    }
   ],
   "source": [
    "non_compact.var(), compact.var()"
   ]
  },
  {
   "cell_type": "markdown",
   "id": "4f71ee5c",
   "metadata": {},
   "source": [
    "# Compute test statistic and probability (t-statistic & p-value)"
   ]
  },
  {
   "cell_type": "code",
   "execution_count": 110,
   "id": "c68483fe",
   "metadata": {},
   "outputs": [
    {
     "data": {
      "text/plain": [
       "(8.128810422808078, 8.009030328061537e-13, 0.05)"
      ]
     },
     "execution_count": 110,
     "metadata": {},
     "output_type": "execute_result"
    }
   ],
   "source": [
    "t, p = stats.ttest_ind(compact, non_compact, equal_var=False )\n",
    "t,p/2, alpha"
   ]
  },
  {
   "cell_type": "code",
   "execution_count": 101,
   "id": "a36349f3",
   "metadata": {},
   "outputs": [
    {
     "name": "stdout",
     "output_type": "stream",
     "text": [
      "is p/2 < alpha?  True\n"
     ]
    }
   ],
   "source": [
    "print(\"is p/2 < alpha? \", p/2 < alpha)"
   ]
  },
  {
   "cell_type": "code",
   "execution_count": 102,
   "id": "66f66e83",
   "metadata": {},
   "outputs": [
    {
     "name": "stdout",
     "output_type": "stream",
     "text": [
      "We reject the null hypothesis\n"
     ]
    }
   ],
   "source": [
    "if (p/2 < alpha) & (t >0):\n",
    "    print(\"We reject the null hypothesis\")\n",
    "else:\n",
    "    print(\"We fail to reject the null hypothesis\")"
   ]
  },
  {
   "cell_type": "markdown",
   "id": "7aa01101",
   "metadata": {},
   "source": [
    "# Do manual cars get better gas mileage than automatic cars?"
   ]
  },
  {
   "cell_type": "code",
   "execution_count": 67,
   "id": "92f62a5a",
   "metadata": {},
   "outputs": [
    {
     "data": {
      "text/html": [
       "<div>\n",
       "<style scoped>\n",
       "    .dataframe tbody tr th:only-of-type {\n",
       "        vertical-align: middle;\n",
       "    }\n",
       "\n",
       "    .dataframe tbody tr th {\n",
       "        vertical-align: top;\n",
       "    }\n",
       "\n",
       "    .dataframe thead th {\n",
       "        text-align: right;\n",
       "    }\n",
       "</style>\n",
       "<table border=\"1\" class=\"dataframe\">\n",
       "  <thead>\n",
       "    <tr style=\"text-align: right;\">\n",
       "      <th></th>\n",
       "      <th>manufacturer</th>\n",
       "      <th>model</th>\n",
       "      <th>displ</th>\n",
       "      <th>year</th>\n",
       "      <th>cyl</th>\n",
       "      <th>trans</th>\n",
       "      <th>drv</th>\n",
       "      <th>cty</th>\n",
       "      <th>hwy</th>\n",
       "      <th>fl</th>\n",
       "      <th>class</th>\n",
       "      <th>fuel_eff</th>\n",
       "    </tr>\n",
       "  </thead>\n",
       "  <tbody>\n",
       "    <tr>\n",
       "      <th>1</th>\n",
       "      <td>audi</td>\n",
       "      <td>a4</td>\n",
       "      <td>1.8</td>\n",
       "      <td>1999</td>\n",
       "      <td>4</td>\n",
       "      <td>auto(l5)</td>\n",
       "      <td>f</td>\n",
       "      <td>18</td>\n",
       "      <td>29</td>\n",
       "      <td>p</td>\n",
       "      <td>compact</td>\n",
       "      <td>23.5</td>\n",
       "    </tr>\n",
       "    <tr>\n",
       "      <th>2</th>\n",
       "      <td>audi</td>\n",
       "      <td>a4</td>\n",
       "      <td>1.8</td>\n",
       "      <td>1999</td>\n",
       "      <td>4</td>\n",
       "      <td>manual(m5)</td>\n",
       "      <td>f</td>\n",
       "      <td>21</td>\n",
       "      <td>29</td>\n",
       "      <td>p</td>\n",
       "      <td>compact</td>\n",
       "      <td>25.0</td>\n",
       "    </tr>\n",
       "    <tr>\n",
       "      <th>3</th>\n",
       "      <td>audi</td>\n",
       "      <td>a4</td>\n",
       "      <td>2.0</td>\n",
       "      <td>2008</td>\n",
       "      <td>4</td>\n",
       "      <td>manual(m6)</td>\n",
       "      <td>f</td>\n",
       "      <td>20</td>\n",
       "      <td>31</td>\n",
       "      <td>p</td>\n",
       "      <td>compact</td>\n",
       "      <td>25.5</td>\n",
       "    </tr>\n",
       "    <tr>\n",
       "      <th>4</th>\n",
       "      <td>audi</td>\n",
       "      <td>a4</td>\n",
       "      <td>2.0</td>\n",
       "      <td>2008</td>\n",
       "      <td>4</td>\n",
       "      <td>auto(av)</td>\n",
       "      <td>f</td>\n",
       "      <td>21</td>\n",
       "      <td>30</td>\n",
       "      <td>p</td>\n",
       "      <td>compact</td>\n",
       "      <td>25.5</td>\n",
       "    </tr>\n",
       "    <tr>\n",
       "      <th>5</th>\n",
       "      <td>audi</td>\n",
       "      <td>a4</td>\n",
       "      <td>2.8</td>\n",
       "      <td>1999</td>\n",
       "      <td>6</td>\n",
       "      <td>auto(l5)</td>\n",
       "      <td>f</td>\n",
       "      <td>16</td>\n",
       "      <td>26</td>\n",
       "      <td>p</td>\n",
       "      <td>compact</td>\n",
       "      <td>21.0</td>\n",
       "    </tr>\n",
       "    <tr>\n",
       "      <th>...</th>\n",
       "      <td>...</td>\n",
       "      <td>...</td>\n",
       "      <td>...</td>\n",
       "      <td>...</td>\n",
       "      <td>...</td>\n",
       "      <td>...</td>\n",
       "      <td>...</td>\n",
       "      <td>...</td>\n",
       "      <td>...</td>\n",
       "      <td>...</td>\n",
       "      <td>...</td>\n",
       "      <td>...</td>\n",
       "    </tr>\n",
       "    <tr>\n",
       "      <th>230</th>\n",
       "      <td>volkswagen</td>\n",
       "      <td>passat</td>\n",
       "      <td>2.0</td>\n",
       "      <td>2008</td>\n",
       "      <td>4</td>\n",
       "      <td>auto(s6)</td>\n",
       "      <td>f</td>\n",
       "      <td>19</td>\n",
       "      <td>28</td>\n",
       "      <td>p</td>\n",
       "      <td>midsize</td>\n",
       "      <td>23.5</td>\n",
       "    </tr>\n",
       "    <tr>\n",
       "      <th>231</th>\n",
       "      <td>volkswagen</td>\n",
       "      <td>passat</td>\n",
       "      <td>2.0</td>\n",
       "      <td>2008</td>\n",
       "      <td>4</td>\n",
       "      <td>manual(m6)</td>\n",
       "      <td>f</td>\n",
       "      <td>21</td>\n",
       "      <td>29</td>\n",
       "      <td>p</td>\n",
       "      <td>midsize</td>\n",
       "      <td>25.0</td>\n",
       "    </tr>\n",
       "    <tr>\n",
       "      <th>232</th>\n",
       "      <td>volkswagen</td>\n",
       "      <td>passat</td>\n",
       "      <td>2.8</td>\n",
       "      <td>1999</td>\n",
       "      <td>6</td>\n",
       "      <td>auto(l5)</td>\n",
       "      <td>f</td>\n",
       "      <td>16</td>\n",
       "      <td>26</td>\n",
       "      <td>p</td>\n",
       "      <td>midsize</td>\n",
       "      <td>21.0</td>\n",
       "    </tr>\n",
       "    <tr>\n",
       "      <th>233</th>\n",
       "      <td>volkswagen</td>\n",
       "      <td>passat</td>\n",
       "      <td>2.8</td>\n",
       "      <td>1999</td>\n",
       "      <td>6</td>\n",
       "      <td>manual(m5)</td>\n",
       "      <td>f</td>\n",
       "      <td>18</td>\n",
       "      <td>26</td>\n",
       "      <td>p</td>\n",
       "      <td>midsize</td>\n",
       "      <td>22.0</td>\n",
       "    </tr>\n",
       "    <tr>\n",
       "      <th>234</th>\n",
       "      <td>volkswagen</td>\n",
       "      <td>passat</td>\n",
       "      <td>3.6</td>\n",
       "      <td>2008</td>\n",
       "      <td>6</td>\n",
       "      <td>auto(s6)</td>\n",
       "      <td>f</td>\n",
       "      <td>17</td>\n",
       "      <td>26</td>\n",
       "      <td>p</td>\n",
       "      <td>midsize</td>\n",
       "      <td>21.5</td>\n",
       "    </tr>\n",
       "  </tbody>\n",
       "</table>\n",
       "<p>234 rows × 12 columns</p>\n",
       "</div>"
      ],
      "text/plain": [
       "    manufacturer   model  displ  year  cyl       trans drv  cty  hwy fl  \\\n",
       "1           audi      a4    1.8  1999    4    auto(l5)   f   18   29  p   \n",
       "2           audi      a4    1.8  1999    4  manual(m5)   f   21   29  p   \n",
       "3           audi      a4    2.0  2008    4  manual(m6)   f   20   31  p   \n",
       "4           audi      a4    2.0  2008    4    auto(av)   f   21   30  p   \n",
       "5           audi      a4    2.8  1999    6    auto(l5)   f   16   26  p   \n",
       "..           ...     ...    ...   ...  ...         ...  ..  ...  ... ..   \n",
       "230   volkswagen  passat    2.0  2008    4    auto(s6)   f   19   28  p   \n",
       "231   volkswagen  passat    2.0  2008    4  manual(m6)   f   21   29  p   \n",
       "232   volkswagen  passat    2.8  1999    6    auto(l5)   f   16   26  p   \n",
       "233   volkswagen  passat    2.8  1999    6  manual(m5)   f   18   26  p   \n",
       "234   volkswagen  passat    3.6  2008    6    auto(s6)   f   17   26  p   \n",
       "\n",
       "       class  fuel_eff  \n",
       "1    compact      23.5  \n",
       "2    compact      25.0  \n",
       "3    compact      25.5  \n",
       "4    compact      25.5  \n",
       "5    compact      21.0  \n",
       "..       ...       ...  \n",
       "230  midsize      23.5  \n",
       "231  midsize      25.0  \n",
       "232  midsize      21.0  \n",
       "233  midsize      22.0  \n",
       "234  midsize      21.5  \n",
       "\n",
       "[234 rows x 12 columns]"
      ]
     },
     "execution_count": 67,
     "metadata": {},
     "output_type": "execute_result"
    }
   ],
   "source": [
    "mpg \n"
   ]
  },
  {
   "cell_type": "code",
   "execution_count": 78,
   "id": "f18a4eb3",
   "metadata": {},
   "outputs": [
    {
     "data": {
      "text/plain": [
       "1      23.5\n",
       "4      25.5\n",
       "5      21.0\n",
       "7      22.5\n",
       "9      20.5\n",
       "11     23.0\n",
       "12     20.0\n",
       "14     21.0\n",
       "16     19.5\n",
       "17     21.0\n",
       "18     19.5\n",
       "19     17.0\n",
       "20     13.0\n",
       "21     17.0\n",
       "22     15.0\n",
       "23     14.5\n",
       "25     19.0\n",
       "27     20.0\n",
       "29     16.5\n",
       "30     12.5\n",
       "31     13.0\n",
       "32     15.5\n",
       "33     23.0\n",
       "34     26.0\n",
       "35     22.0\n",
       "36     23.5\n",
       "37     21.5\n",
       "38     21.0\n",
       "39     20.5\n",
       "40     19.0\n",
       "41     19.0\n",
       "42     20.5\n",
       "43     20.5\n",
       "44     14.0\n",
       "45     18.5\n",
       "46     18.0\n",
       "47     19.5\n",
       "48     19.5\n",
       "50     16.0\n",
       "51     15.0\n",
       "53     16.5\n",
       "54     16.5\n",
       "55     10.5\n",
       "57     13.0\n",
       "58     15.0\n",
       "59     15.0\n",
       "60     10.5\n",
       "61     15.0\n",
       "62     13.5\n",
       "63     15.5\n",
       "64     13.0\n",
       "66     10.5\n",
       "67     15.0\n",
       "68     15.0\n",
       "71     13.0\n",
       "73     15.0\n",
       "74     13.0\n",
       "75     14.0\n",
       "76     14.0\n",
       "77     15.0\n",
       "78     15.5\n",
       "80     15.5\n",
       "81     16.0\n",
       "82     16.0\n",
       "83     15.0\n",
       "84     15.5\n",
       "87     14.5\n",
       "88     15.0\n",
       "89     13.0\n",
       "90     15.0\n",
       "92     21.5\n",
       "94     20.0\n",
       "95     18.0\n",
       "98     18.5\n",
       "101    28.0\n",
       "104    28.0\n",
       "106    30.5\n",
       "107    30.0\n",
       "109    22.0\n",
       "111    25.5\n",
       "113    22.0\n",
       "115    23.5\n",
       "116    22.5\n",
       "119    23.5\n",
       "120    20.5\n",
       "123    19.5\n",
       "124    17.0\n",
       "125    17.5\n",
       "126    15.5\n",
       "127    10.5\n",
       "128    16.5\n",
       "129    15.5\n",
       "130    12.5\n",
       "131    13.0\n",
       "132    15.0\n",
       "133    15.0\n",
       "134    13.0\n",
       "135    14.0\n",
       "136    13.5\n",
       "137    15.0\n",
       "138    15.5\n",
       "139    16.0\n",
       "140    16.0\n",
       "141    15.0\n",
       "143    23.0\n",
       "144    27.0\n",
       "147    22.5\n",
       "148    22.0\n",
       "150    22.0\n",
       "151    15.5\n",
       "153    17.0\n",
       "154    15.0\n",
       "155    22.0\n",
       "156    21.0\n",
       "157    22.0\n",
       "158    23.0\n",
       "159    20.5\n",
       "161    21.0\n",
       "164    23.0\n",
       "165    20.5\n",
       "166    23.5\n",
       "169    22.5\n",
       "170    22.5\n",
       "171    23.5\n",
       "175    18.0\n",
       "176    17.0\n",
       "178    18.0\n",
       "179    15.5\n",
       "181    24.0\n",
       "183    26.0\n",
       "184    22.0\n",
       "186    23.5\n",
       "187    24.0\n",
       "190    26.5\n",
       "191    22.0\n",
       "193    22.5\n",
       "194    27.0\n",
       "195    28.5\n",
       "198    30.5\n",
       "199    13.0\n",
       "200    15.5\n",
       "202    18.0\n",
       "205    17.0\n",
       "207    18.0\n",
       "209    22.5\n",
       "211    25.5\n",
       "215    22.5\n",
       "216    25.5\n",
       "218    25.0\n",
       "220    19.5\n",
       "223    35.0\n",
       "225    22.5\n",
       "227    24.5\n",
       "229    23.5\n",
       "230    23.5\n",
       "232    21.0\n",
       "234    21.5\n",
       "Name: fuel_eff, dtype: float64"
      ]
     },
     "execution_count": 78,
     "metadata": {},
     "output_type": "execute_result"
    }
   ],
   "source": [
    "automatic = mpg[mpg.trans.str.startswith('a')].fuel_eff\n",
    "automatic\n"
   ]
  },
  {
   "cell_type": "code",
   "execution_count": 77,
   "id": "ed0e0a9b",
   "metadata": {},
   "outputs": [
    {
     "data": {
      "text/plain": [
       "2      25.0\n",
       "3      25.5\n",
       "6      22.0\n",
       "8      22.0\n",
       "10     24.0\n",
       "13     21.0\n",
       "15     20.0\n",
       "24     21.0\n",
       "26     21.0\n",
       "28     19.5\n",
       "49     17.0\n",
       "52     15.5\n",
       "56     14.0\n",
       "65     14.0\n",
       "69     14.0\n",
       "70     10.5\n",
       "72     13.5\n",
       "79     17.0\n",
       "85     15.5\n",
       "86     14.5\n",
       "91     22.0\n",
       "93     21.5\n",
       "96     18.5\n",
       "97     19.0\n",
       "99     17.0\n",
       "100    30.5\n",
       "102    28.5\n",
       "103    26.0\n",
       "105    30.0\n",
       "108    25.0\n",
       "110    22.5\n",
       "112    26.0\n",
       "114    22.0\n",
       "117    24.0\n",
       "118    24.0\n",
       "121    20.0\n",
       "122    20.5\n",
       "142    25.0\n",
       "145    27.5\n",
       "146    23.0\n",
       "149    22.0\n",
       "152    16.0\n",
       "160    21.5\n",
       "162    23.5\n",
       "163    22.0\n",
       "167    22.5\n",
       "168    22.5\n",
       "172    22.0\n",
       "173    23.5\n",
       "174    17.5\n",
       "177    16.0\n",
       "180    25.0\n",
       "182    26.0\n",
       "185    22.0\n",
       "188    25.0\n",
       "189    26.0\n",
       "192    22.0\n",
       "196    30.5\n",
       "197    32.5\n",
       "201    17.5\n",
       "203    19.5\n",
       "204    16.0\n",
       "206    16.5\n",
       "208    25.0\n",
       "210    25.0\n",
       "212    20.5\n",
       "213    38.5\n",
       "214    25.0\n",
       "217    25.0\n",
       "219    25.0\n",
       "221    20.5\n",
       "222    39.5\n",
       "224    25.0\n",
       "226    24.0\n",
       "228    25.0\n",
       "231    25.0\n",
       "233    22.0\n",
       "Name: fuel_eff, dtype: float64"
      ]
     },
     "execution_count": 77,
     "metadata": {},
     "output_type": "execute_result"
    }
   ],
   "source": [
    "man = mpg[mpg.trans.str.startswith('m')].fuel_eff\n",
    "man\n",
    "\n"
   ]
  },
  {
   "cell_type": "code",
   "execution_count": 73,
   "id": "a1855f1f",
   "metadata": {},
   "outputs": [
    {
     "data": {
      "text/plain": [
       "1      23.5\n",
       "2      25.0\n",
       "3      25.5\n",
       "4      25.5\n",
       "5      21.0\n",
       "6      22.0\n",
       "7      22.5\n",
       "8      22.0\n",
       "9      20.5\n",
       "10     24.0\n",
       "11     23.0\n",
       "12     20.0\n",
       "13     21.0\n",
       "14     21.0\n",
       "15     20.0\n",
       "142    25.0\n",
       "143    23.0\n",
       "170    22.5\n",
       "171    23.5\n",
       "172    22.0\n",
       "173    23.5\n",
       "187    24.0\n",
       "188    25.0\n",
       "189    26.0\n",
       "190    26.5\n",
       "191    22.0\n",
       "192    22.0\n",
       "193    22.5\n",
       "194    27.0\n",
       "195    28.5\n",
       "196    30.5\n",
       "197    32.5\n",
       "198    30.5\n",
       "208    25.0\n",
       "209    22.5\n",
       "210    25.0\n",
       "211    25.5\n",
       "212    20.5\n",
       "213    38.5\n",
       "214    25.0\n",
       "215    22.5\n",
       "216    25.5\n",
       "217    25.0\n",
       "218    25.0\n",
       "219    25.0\n",
       "220    19.5\n",
       "221    20.5\n",
       "Name: fuel_eff, dtype: float64"
      ]
     },
     "execution_count": 73,
     "metadata": {},
     "output_type": "execute_result"
    }
   ],
   "source": []
  },
  {
   "cell_type": "markdown",
   "id": "45fcf6c7",
   "metadata": {},
   "source": [
    "# Plot Histogram "
   ]
  },
  {
   "cell_type": "code",
   "execution_count": 80,
   "id": "979222b6",
   "metadata": {},
   "outputs": [
    {
     "data": {
      "text/plain": [
       "<AxesSubplot:>"
      ]
     },
     "execution_count": 80,
     "metadata": {},
     "output_type": "execute_result"
    },
    {
     "data": {
      "image/png": "[encoded data removed]",
      "text/plain": [
       "<Figure size 432x288 with 1 Axes>"
      ]
     },
     "metadata": {
      "needs_background": "light"
     },
     "output_type": "display_data"
    }
   ],
   "source": [
    "man.hist()"
   ]
  },
  {
   "cell_type": "code",
   "execution_count": 82,
   "id": "1904e288",
   "metadata": {},
   "outputs": [
    {
     "data": {
      "text/plain": [
       "<AxesSubplot:>"
      ]
     },
     "execution_count": 82,
     "metadata": {},
     "output_type": "execute_result"
    },
    {
     "data": {
      "image/png": "[encoded data removed]",
      "text/plain": [
       "<Figure size 432x288 with 1 Axes>"
      ]
     },
     "metadata": {
      "needs_background": "light"
     },
     "output_type": "display_data"
    }
   ],
   "source": [
    "automatic.hist()\n"
   ]
  },
  {
   "cell_type": "markdown",
   "id": "52c7de96",
   "metadata": {},
   "source": [
    "# Hypothesis\n",
    "H0: manual cars and automatic cars gives equal gas mileage \n",
    "    \n",
    "H1: maunal cars and automatic cars do not get equal gas milegage than "
   ]
  },
  {
   "cell_type": "markdown",
   "id": "ae2f921e",
   "metadata": {},
   "source": [
    "# Verify Assumptions\n",
    "compare variance "
   ]
  },
  {
   "cell_type": "code",
   "execution_count": 84,
   "id": "50f9ccb4",
   "metadata": {},
   "outputs": [
    {
     "data": {
      "text/plain": [
       "(21.942777233382337, 26.635167464114826)"
      ]
     },
     "execution_count": 84,
     "metadata": {},
     "output_type": "execute_result"
    }
   ],
   "source": [
    "automatic.var(), man.var()"
   ]
  },
  {
   "cell_type": "code",
   "execution_count": 111,
   "id": "9a4712dd",
   "metadata": {},
   "outputs": [
    {
     "data": {
      "text/plain": [
       "LeveneResult(statistic=0.20075824847529639, pvalue=0.6545276355131857)"
      ]
     },
     "execution_count": 111,
     "metadata": {},
     "output_type": "execute_result"
    }
   ],
   "source": [
    "# leven test \n",
    "stats.levene(automatic,man)"
   ]
  },
  {
   "cell_type": "markdown",
   "id": "eeb0705d",
   "metadata": {},
   "source": [
    "# Compute test statistic and probability (t-statistic & p-value)"
   ]
  },
  {
   "cell_type": "code",
   "execution_count": 86,
   "id": "26f5fe17",
   "metadata": {},
   "outputs": [
    {
     "data": {
      "text/plain": [
       "(4.443514012903071, 1.795224899991793e-05, 0.05)"
      ]
     },
     "execution_count": 86,
     "metadata": {},
     "output_type": "execute_result"
    }
   ],
   "source": [
    "t, p = stats.ttest_ind(man, automatic, equal_var=False )\n",
    "t,p, alpha"
   ]
  },
  {
   "cell_type": "markdown",
   "id": "93e27557",
   "metadata": {},
   "source": [
    "# Decide "
   ]
  },
  {
   "cell_type": "code",
   "execution_count": 106,
   "id": "5eae13fb",
   "metadata": {},
   "outputs": [
    {
     "data": {
      "text/plain": [
       "True"
      ]
     },
     "execution_count": 106,
     "metadata": {},
     "output_type": "execute_result"
    }
   ],
   "source": [
    "p/2 < alpha \n",
    "t > 0"
   ]
  },
  {
   "cell_type": "code",
   "execution_count": 95,
   "id": "0ea2c478",
   "metadata": {},
   "outputs": [
    {
     "name": "stdout",
     "output_type": "stream",
     "text": [
      "We reject the null hypothesis\n"
     ]
    }
   ],
   "source": [
    "if (p/2 < alpha) & (t >0):\n",
    "    print(\"We reject the null hypothesis\")\n",
    "else:\n",
    "    print(\"We fail to reject the null hypothesis\")"
   ]
  },
  {
   "cell_type": "code",
   "execution_count": null,
   "id": "2eb42fe7",
   "metadata": {},
   "outputs": [],
   "source": []
  },
  {
   "cell_type": "code",
   "execution_count": null,
   "id": "47ca27f2",
   "metadata": {},
   "outputs": [],
   "source": [
    "# Correlation "
   ]
  }
 ],
 "metadata": {
  "kernelspec": {
   "display_name": "Python 3",
   "language": "python",
   "name": "python3"
  },
  "language_info": {
   "codemirror_mode": {
    "name": "ipython",
    "version": 3
   },
   "file_extension": ".py",
   "mimetype": "text/x-python",
   "name": "python",
   "nbconvert_exporter": "python",
   "pygments_lexer": "ipython3",
   "version": "3.8.8"
  }
 },
 "nbformat": 4,
 "nbformat_minor": 5
}
